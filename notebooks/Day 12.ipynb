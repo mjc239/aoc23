{
 "cells": [
  {
   "cell_type": "code",
   "execution_count": null,
   "metadata": {},
   "outputs": [],
   "source": [
    "# Add module to path\n",
    "import os\n",
    "import sys\n",
    "module_path = os.path.abspath(os.path.join('..'))\n",
    "if module_path not in sys.path:\n",
    "    sys.path.append(module_path)"
   ]
  },
  {
   "cell_type": "code",
   "execution_count": 2,
   "metadata": {},
   "outputs": [],
   "source": [
    "# Imports\n",
    "from aoc23.utils import read_input\n",
    "from functools import cache"
   ]
  },
  {
   "cell_type": "code",
   "execution_count": 3,
   "metadata": {},
   "outputs": [],
   "source": [
    "input_12 = read_input(12)"
   ]
  },
  {
   "cell_type": "markdown",
   "metadata": {},
   "source": [
    "## Part 1"
   ]
  },
  {
   "cell_type": "markdown",
   "metadata": {},
   "source": [
    "In part 1 of the [day 12 puzzle](https://adventofcode.com/2023/day/12), we are given a collection of arrays, representing the operational states of rows of springs. Each array is a string of varying length, consisting of a mixture of three different characters, each representing the state of the spring:\n",
    "\n",
    "- `.` = operational spring\n",
    "- `#` = damaged spring\n",
    "- `?` = spring with unknown status.\n",
    "\n",
    "Also provided with each row of spring states is a list of integers; this represents the lengths of each contiguous group of damaged springs. Looking at a few examples from the puzzle input will help clarify this:"
   ]
  },
  {
   "cell_type": "code",
   "execution_count": 4,
   "metadata": {},
   "outputs": [
    {
     "name": "stdout",
     "output_type": "stream",
     "text": [
      "['..???.??.?', '1,1,1']\n",
      "['?#?##???.????', '2,5,1,1']\n",
      "['?#??????##?', '1,1,2']\n",
      "['?#.#?#??#???', '1,7,1']\n",
      "['?#???#?#??.#.###.?', '3,1,3,1,3,1']\n"
     ]
    }
   ],
   "source": [
    "split_input = [line.split() for line in input_12]\n",
    "for line in split_input[:5]:\n",
    "    print(line)"
   ]
  },
  {
   "cell_type": "markdown",
   "metadata": {},
   "source": [
    "For example, the first line above represents a row of 10 springs: the first 2 are operational, the next 3 are unknown, the next is operational, and so on. The list of integers `1,1,1` indicates that is row contains 3 damaged springs, all separated by at least one operational one. So, a valid configuration for this row would be `..#...#..#`, along with various others. The first part of the puzzle is to find, for each of the rows in the input, the number of configurations of operational and broken springs that are compatible with both the operational state array and the contiguous integer list."
   ]
  },
  {
   "cell_type": "markdown",
   "metadata": {},
   "source": [
    "The strategy for solving this is to consider each valid position for the first integer in turn, and then use recursion to reduce to smaller but similar problem. Here is the function used to do this: "
   ]
  },
  {
   "cell_type": "code",
   "execution_count": 5,
   "metadata": {},
   "outputs": [],
   "source": [
    "@cache\n",
    "def num_possible_arrays(string: str, nums: str, base_level=True) -> int:\n",
    "    num = 0\n",
    "    # Split the nums into a list of ints\n",
    "    # Use of a string argument `nums` to allow caching\n",
    "    nums = [int(x) for x in nums.split(',')] if nums else []\n",
    "    \n",
    "    # End of a recursion - empty contiguous integer list\n",
    "    # So return 1 if there are no further `#` characters \n",
    "    # in remaining string (valid solution), and return 0\n",
    "    # if there are `#` characters (invalid solution)\n",
    "    if nums == []:\n",
    "        return not any([c == '#' for c in string])\n",
    "    \n",
    "    # The ends of the string can be fiddly to deal with.\n",
    "    # Padding with `.` characters does not affect the solution\n",
    "    # but avoids special cases for ends of original string\n",
    "    if base_level:\n",
    "        string = '.' + string + nums[-1]*'.'\n",
    "    \n",
    "    # Loop from nidex 1: skip first character, as there must be\n",
    "    # a gap between contiguous blocks. On first iteration,\n",
    "    # there is an extra '.' character prepended\n",
    "    # Loop until len(string) - nums[0]: block of length nums[0]\n",
    "    # must fit into remaining string for a valid solution\n",
    "    for i in range(1, len(string) - nums[0]):\n",
    "        char = string[i]\n",
    "        \n",
    "        if char in ['#', '?']:\n",
    "            # Conditions to check if block can start here\n",
    "            # First condition: all nums[0] next characters are '#' or '?'\n",
    "            condition_1 = all([c in ['#', '?'] for c in string[i:i+nums[0]]])\n",
    "            \n",
    "            # Second condition: the character after the next nums[0] \n",
    "            # characters cannot be a '#' (must be a gap between blocks)\n",
    "            condition_2 = string[i+nums[0]] != '#'\n",
    "            \n",
    "            # Third condition: Previous character cannot be a '#'\n",
    "            # for a similar reason\n",
    "            condition_3 = string[i-1] != '#'\n",
    "            \n",
    "            if all([condition_1, condition_2, condition_3]):\n",
    "                # Convert back to string\n",
    "                next_nums = ','.join([str(x) for x in nums[1:]])\n",
    "                \n",
    "                # Recurse on remaining string after block, with one fewer \n",
    "                # remaining block to consider\n",
    "                num += num_possible_arrays(string[i+nums[0]:], next_nums, False)\n",
    "        \n",
    "        # Once a '#' character is hit, the next block must start here\n",
    "        if char == '#':\n",
    "            break\n",
    "                \n",
    "    return num"
   ]
  },
  {
   "cell_type": "markdown",
   "metadata": {},
   "source": [
    "As you can probably notice, this function was quite fiddly to design, with various cases and pattern variants to consider. The following test cases helped to identify errors for particular patterns and special cases: they are a mixture of small, simple arrays that are easy to debug, and longer examples provided by the puzzle designer as test cases."
   ]
  },
  {
   "cell_type": "code",
   "execution_count": 6,
   "metadata": {},
   "outputs": [
    {
     "name": "stdout",
     "output_type": "stream",
     "text": [
      "Success!\n"
     ]
    }
   ],
   "source": [
    "assert num_possible_arrays('#', '1') == 1\n",
    "assert num_possible_arrays('##', '2') == 1\n",
    "assert num_possible_arrays('#?', '2') == 1\n",
    "assert num_possible_arrays('?#', '2') == 1\n",
    "assert num_possible_arrays('.#', '1') == 1\n",
    "assert num_possible_arrays('.?', '1') == 1\n",
    "assert num_possible_arrays('#.', '1') == 1\n",
    "assert num_possible_arrays('?.', '1') == 1\n",
    "assert num_possible_arrays('#?', '1') == 1\n",
    "assert num_possible_arrays('##?', '2') == 1\n",
    "assert num_possible_arrays('?#?', '2') == 2\n",
    "assert num_possible_arrays('???', '2') == 2\n",
    "assert num_possible_arrays('?#', '1') == 1\n",
    "assert num_possible_arrays('??#', '1') == 1\n",
    "assert num_possible_arrays('??#', '2') == 1\n",
    "assert num_possible_arrays('???', '1,1') == 1\n",
    "assert num_possible_arrays('???.###', '1,1,3') == 1\n",
    "assert num_possible_arrays('..??..??...?##', '1,1,3') == 4\n",
    "assert num_possible_arrays('?#?#?#?#?#?#?#?', '1,3,1,6') == 1\n",
    "assert num_possible_arrays('????.#..#...', '4,1,1') == 1\n",
    "assert num_possible_arrays('????.######..#####.', '1,6,5') == 4\n",
    "assert num_possible_arrays('?###????????', '3,2,1') == 10\n",
    "print('Success!')"
   ]
  },
  {
   "cell_type": "markdown",
   "metadata": {},
   "source": [
    "Now that this works as expected, the total sum of combinations can be computed for all arrays:"
   ]
  },
  {
   "cell_type": "code",
   "execution_count": 7,
   "metadata": {},
   "outputs": [
    {
     "data": {
      "text/plain": [
       "8419"
      ]
     },
     "execution_count": 7,
     "metadata": {},
     "output_type": "execute_result"
    }
   ],
   "source": [
    "sum([num_possible_arrays(array, nums) for array, nums in split_input])"
   ]
  },
  {
   "cell_type": "markdown",
   "metadata": {},
   "source": [
    "So the answer to part 1 is: __8419__."
   ]
  },
  {
   "cell_type": "markdown",
   "metadata": {},
   "source": [
    "## Part 2"
   ]
  },
  {
   "cell_type": "markdown",
   "metadata": {},
   "source": [
    "In the second part, we must repeat the patterns 5 times, with additional `?` characters sandwiched between the copies of the original array; the contiguous integer list is likewise repeated"
   ]
  },
  {
   "cell_type": "code",
   "execution_count": 8,
   "metadata": {},
   "outputs": [],
   "source": [
    "def unfold_input(array: str, nums: str, factor: int = 5) -> tuple[str]:\n",
    "    arrays = factor*[array]\n",
    "    nums = factor*[nums]\n",
    "    return ('?'.join(arrays), ','.join(nums))"
   ]
  },
  {
   "cell_type": "markdown",
   "metadata": {},
   "source": [
    "To illustrate this, take a simple example:"
   ]
  },
  {
   "cell_type": "code",
   "execution_count": 9,
   "metadata": {},
   "outputs": [
    {
     "data": {
      "text/plain": [
       "('##.##?##.##?##.##?##.##?##.##', '2,2,2,2,2,2,2,2,2,2')"
      ]
     },
     "execution_count": 9,
     "metadata": {},
     "output_type": "execute_result"
    }
   ],
   "source": [
    "unfold_input('##.##', '2,2')"
   ]
  },
  {
   "cell_type": "markdown",
   "metadata": {},
   "source": [
    "Thankfully, the code written earlier should also be valid here, when applied to the tranformed arrays; this can be tested on the provided examples to be sure:"
   ]
  },
  {
   "cell_type": "code",
   "execution_count": 10,
   "metadata": {},
   "outputs": [],
   "source": [
    "assert num_possible_arrays(*unfold_input('..??..??...?##','1,1,3')) == 16384\n",
    "assert num_possible_arrays(*unfold_input('?#?#?#?#?#?#?#?', '1,3,1,6')) == 1\n",
    "assert num_possible_arrays(*unfold_input('????.#..#...', '4,1,1')) == 16\n",
    "assert num_possible_arrays(*unfold_input('????.######..#####.', '1,6,5')) == 2500\n",
    "assert num_possible_arrays(*unfold_input('?###????????', '3,2,1')) == 506250"
   ]
  },
  {
   "cell_type": "markdown",
   "metadata": {},
   "source": [
    "Computing the number of combinations for these larger arrays is computationally expensive, and so attempting to run the function `num_possible_arrays` across all the input rows would not be feasible. Thankfully, there is a simple way of speeding up the computation, that has already been included in the earlier implementation: the function is wrapped with a `cache` decorator. This will make a cached copy of the result computed for a particular set of inputs `(string, nums, base_level)`, so that the value can be looked up in future when these arguments reoccur. This is particularly useful in recursion problems, where large inputs are broken down into smaller ones which end up being evaluated many times. \n",
    "\n",
    "For this puzzle, I was unable to complete even the first row of the input file in 2 minutes of wall-clock time without caching; with caching enabled, all 1000 rows of the input file completed in 3 seconds:"
   ]
  },
  {
   "cell_type": "code",
   "execution_count": 11,
   "metadata": {},
   "outputs": [],
   "source": [
    "combinations = 0\n",
    "for array, nums in split_input:\n",
    "    combinations += num_possible_arrays(*unfold_input(array, nums))"
   ]
  },
  {
   "cell_type": "code",
   "execution_count": 12,
   "metadata": {},
   "outputs": [
    {
     "data": {
      "text/plain": [
       "160500973317706"
      ]
     },
     "execution_count": 12,
     "metadata": {},
     "output_type": "execute_result"
    }
   ],
   "source": [
    "combinations"
   ]
  },
  {
   "cell_type": "markdown",
   "metadata": {},
   "source": [
    "Looking at the cache info for the function, we can see that more than 166,000 function values have been computed and cached, saving many hundreds of thousands of function calls:"
   ]
  },
  {
   "cell_type": "code",
   "execution_count": 13,
   "metadata": {},
   "outputs": [
    {
     "data": {
      "text/plain": [
       "CacheInfo(hits=737523, misses=167677, maxsize=None, currsize=167677)"
      ]
     },
     "execution_count": 13,
     "metadata": {},
     "output_type": "execute_result"
    }
   ],
   "source": [
    "num_possible_arrays.cache_info()"
   ]
  },
  {
   "cell_type": "markdown",
   "metadata": {},
   "source": [
    "And so the answer to part 2 of the puzzle is: __160500973317706__."
   ]
  }
 ],
 "metadata": {
  "kernelspec": {
   "display_name": "aoc23",
   "language": "python",
   "name": "aoc23"
  },
  "language_info": {
   "codemirror_mode": {
    "name": "ipython",
    "version": 3
   },
   "file_extension": ".py",
   "mimetype": "text/x-python",
   "name": "python",
   "nbconvert_exporter": "python",
   "pygments_lexer": "ipython3",
   "version": "3.12.0"
  }
 },
 "nbformat": 4,
 "nbformat_minor": 4
}
