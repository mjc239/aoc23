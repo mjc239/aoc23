{
 "cells": [
  {
   "cell_type": "code",
   "execution_count": 1,
   "metadata": {},
   "outputs": [],
   "source": [
    "# Add module to path\n",
    "import os\n",
    "import sys\n",
    "module_path = os.path.abspath(os.path.join('..'))\n",
    "if module_path not in sys.path:\n",
    "    sys.path.append(module_path)"
   ]
  },
  {
   "cell_type": "code",
   "execution_count": 91,
   "metadata": {},
   "outputs": [],
   "source": [
    "# Imports\n",
    "from aoc23.utils import read_input\n",
    "import numpy as np\n",
    "import time"
   ]
  },
  {
   "cell_type": "code",
   "execution_count": 3,
   "metadata": {},
   "outputs": [],
   "source": [
    "input_5 = read_input(5)"
   ]
  },
  {
   "cell_type": "markdown",
   "metadata": {},
   "source": [
    "## Part 1"
   ]
  },
  {
   "cell_type": "markdown",
   "metadata": {},
   "source": [
    "The first part of the [Day 5 puzzle](https://adventofcode.com/2023/day/5) gives a collection of seeds, along with a series of maps. These map from the seed numbers to the soil numbers, the soil numbers to the fertiliser numbers, and so on, mapping finally to the location numbers. These maps are specified by three numbers $(s, l, r)$ - the source number, location number, and a range. This excerpt gives description of how these numbers are to be converted into a complete map:\n",
    "\n",
    ">Consider again the example seed-to-soil map:\n",
    ">\n",
    "> 50 98 2\n",
    ">\n",
    "> 52 50 48\n",
    ">\n",
    ">The first line has a destination range start of 50, a source range start of 98, and a range length of 2. This line means that the source range starts at 98 and contains two values: 98 and 99. The destination range is the same length, but it starts at 50, so its two values are 50 and 51. With this information, you know that seed number 98 corresponds to soil number 50 and that seed number 99 corresponds to soil number 51.\n",
    "\n",
    "The first job is to convert the input into a more useful format. Let's create `seeds` (a list of the seed numbers) and `maps` (a dict where the keys are the map names, and the values are lists of three numbers determining the mapping):"
   ]
  },
  {
   "cell_type": "code",
   "execution_count": 80,
   "metadata": {},
   "outputs": [],
   "source": [
    "def process_input_5(input_5: list[str]):\n",
    "    # Extract seeds from the first line of the file\n",
    "    seeds = input_5[0].split(':')[1].split()\n",
    "    seeds = [int(seed) for seed in seeds]\n",
    "    \n",
    "    maps = {}\n",
    "    value = []\n",
    "    \n",
    "    for line in input_5[2:]:\n",
    "        if line == '':\n",
    "            # Line between maps\n",
    "            maps[key] = value\n",
    "            value = []\n",
    "            \n",
    "        elif ':' in line:\n",
    "            # Start of new map\n",
    "            key = line.split()[0]\n",
    "            \n",
    "        else:\n",
    "            # Map values\n",
    "            value.append([int(x) for x in line.split()])\n",
    "    \n",
    "    # No empty string after last map value, so update maps\n",
    "    maps[key] = value\n",
    "    \n",
    "    return seeds, maps"
   ]
  },
  {
   "cell_type": "code",
   "execution_count": 81,
   "metadata": {},
   "outputs": [],
   "source": [
    "seeds, maps = process_input_5(input_5)"
   ]
  },
  {
   "cell_type": "markdown",
   "metadata": {},
   "source": [
    "We _could_ create the dictionary for the entire range of seed values, by constructing each of the intermediate maps in their entirety. But this sounds like too much work - after all, we only care about the seeds in the provided list `seeds`. So instead, given a seed number $n$, we just need to follow it from map to map until we get to a final location. This isn't too tricky - given a seed number, loop over each of the ranges in the seed-to-soil map, checking if it is in the range $[s, s+r)$; if so, compute the corresponding destination number as $d+s-n$."
   ]
  },
  {
   "cell_type": "code",
   "execution_count": 86,
   "metadata": {},
   "outputs": [],
   "source": [
    "def seed_location(seed_idx: int, maps: dict[str, list[list[int]]]) -> int:\n",
    "\n",
    "    for key in maps:\n",
    "        map_ranges = maps[key]\n",
    "        \n",
    "        for destination, source, n in map_ranges:\n",
    "            if source <= seed_idx < source + n:\n",
    "                seed_idx = destination + seed_idx - source\n",
    "                break\n",
    "    \n",
    "    return seed_idx"
   ]
  },
  {
   "cell_type": "markdown",
   "metadata": {},
   "source": [
    "For example, the location of the first seed is given by:"
   ]
  },
  {
   "cell_type": "code",
   "execution_count": 83,
   "metadata": {},
   "outputs": [
    {
     "data": {
      "text/plain": [
       "860904829"
      ]
     },
     "execution_count": 83,
     "metadata": {},
     "output_type": "execute_result"
    }
   ],
   "source": [
    "seed_location(seeds[0], maps)"
   ]
  },
  {
   "cell_type": "markdown",
   "metadata": {},
   "source": [
    "And the minimum location across all the seeds is"
   ]
  },
  {
   "cell_type": "code",
   "execution_count": 90,
   "metadata": {},
   "outputs": [
    {
     "data": {
      "text/plain": [
       "579439039"
      ]
     },
     "execution_count": 90,
     "metadata": {},
     "output_type": "execute_result"
    }
   ],
   "source": [
    "min([seed_location(seed, maps) for seed in seeds])"
   ]
  },
  {
   "cell_type": "markdown",
   "metadata": {},
   "source": [
    "So the part 1 answer is: __579439039__."
   ]
  },
  {
   "cell_type": "markdown",
   "metadata": {},
   "source": [
    "## Part 2"
   ]
  },
  {
   "cell_type": "markdown",
   "metadata": {},
   "source": [
    "It turns out that `seed` isn't a list of seed numbers, but a list of $(seed, range)$ pairs - so all the seeds between $seed$ and $seed + range$ are valid seeds. This information can be used to reshape the `seeds` list into an array called `seed_pairs`:"
   ]
  },
  {
   "cell_type": "code",
   "execution_count": 12,
   "metadata": {},
   "outputs": [],
   "source": [
    "seed_pairs = np.reshape(seeds, (int(len(seeds)/2), 2))"
   ]
  },
  {
   "cell_type": "code",
   "execution_count": 13,
   "metadata": {},
   "outputs": [
    {
     "data": {
      "text/plain": [
       "array([1514493331,  295250933], dtype=int64)"
      ]
     },
     "execution_count": 13,
     "metadata": {},
     "output_type": "execute_result"
    }
   ],
   "source": [
    "seed_pairs[0]"
   ]
  },
  {
   "cell_type": "markdown",
   "metadata": {},
   "source": [
    "From this, we can see that we now have a __huge__ number of valid seeds now - more than 1 billion:"
   ]
  },
  {
   "cell_type": "code",
   "execution_count": 94,
   "metadata": {},
   "outputs": [
    {
     "data": {
      "text/plain": [
       "1638141121"
      ]
     },
     "execution_count": 94,
     "metadata": {},
     "output_type": "execute_result"
    }
   ],
   "source": [
    "seed_pairs[:, 1].sum()"
   ]
  },
  {
   "cell_type": "markdown",
   "metadata": {},
   "source": [
    "It is clearly not feasible to check all the valid seeds to find the minimum location value. Instead, note that the way in which the maps are defined makes it easy to create an inverse mapping - all we need to do is invert the source and destination numbers in each of the maps:\n",
    "$$\n",
    "\\text{map}[(s, f, n)] \\rightarrow \\text{map}[(f, s, n)]\n",
    "$$"
   ]
  },
  {
   "cell_type": "markdown",
   "metadata": {},
   "source": [
    "By doing this inversion, and by reversing the order in which the maps are processed (from location to seed, instead of seed to location), the reverse map can be constructed explicitly:"
   ]
  },
  {
   "cell_type": "code",
   "execution_count": 95,
   "metadata": {},
   "outputs": [],
   "source": [
    "reversed_keys = list(maps.keys())[::-1]\n",
    "reversed_maps = {key: [[v[1], v[0], v[2]] for v in maps[key]] for key in reversed_keys}"
   ]
  },
  {
   "cell_type": "markdown",
   "metadata": {},
   "source": [
    "Just to check this:"
   ]
  },
  {
   "cell_type": "code",
   "execution_count": 99,
   "metadata": {},
   "outputs": [],
   "source": [
    "assert seed_location(seed_location(111111111, reversed_maps), maps) == 111111111\n",
    "assert seed_location(seed_location(3141592, reversed_maps), maps) == 3141592\n",
    "assert seed_location(seed_location(271828182, reversed_maps), maps) == 271828182"
   ]
  },
  {
   "cell_type": "markdown",
   "metadata": {},
   "source": [
    "This provides a way of computing seeds from locations. And so, to find the minimum valid location, we can work up from 0 until we find a location where the corresponding seed is in our original list. The following helper function checks if a given seed is valid (i.e. belongs to one of the ranges defined by `seed_pairs`):"
   ]
  },
  {
   "cell_type": "code",
   "execution_count": 101,
   "metadata": {},
   "outputs": [],
   "source": [
    "def is_valid_seed(candidate: int, seed_pairs: np.ndarray) -> bool:\n",
    "    for lower, n in seed_pairs:\n",
    "        if lower <= candidate < lower + n:\n",
    "            return True\n",
    "    return False"
   ]
  },
  {
   "cell_type": "markdown",
   "metadata": {},
   "source": [
    "And the search begins..."
   ]
  },
  {
   "cell_type": "code",
   "execution_count": 70,
   "metadata": {},
   "outputs": [
    {
     "name": "stdout",
     "output_type": "stream",
     "text": [
      "Found one! location = 7873084, candidate = 665347394\n",
      "8.0 minutes, 13.60687804222107 seconds\n"
     ]
    }
   ],
   "source": [
    "start_time = time.time()\n",
    "\n",
    "for i in range(10_000_000):\n",
    "    candidate = seed_location(i, reversed_maps)\n",
    "    if is_valid_seed(candidate, seed_pairs):\n",
    "        print(f'Found one! location = {i}, candidate = {candidate}')\n",
    "        break\n",
    "        \n",
    "end_time = time.time()\n",
    "print(f'{(end_time - start_time) // 60} minutes, {(end_time - start_time) % 60} seconds')"
   ]
  },
  {
   "cell_type": "markdown",
   "metadata": {},
   "source": [
    "In just over 8 minutes, we found a solution - let's double check that it makes sense: "
   ]
  },
  {
   "cell_type": "code",
   "execution_count": 110,
   "metadata": {},
   "outputs": [],
   "source": [
    "assert seed_location(665347394, maps) == 7873084\n",
    "assert seed_location(7873084, reversed_maps) == 665347394\n",
    "assert is_valid_seed(665347394, seed_pairs)"
   ]
  },
  {
   "cell_type": "markdown",
   "metadata": {},
   "source": [
    "And so the answer to part 2 is __7,873,084__, with original seed 665,347,394."
   ]
  }
 ],
 "metadata": {
  "kernelspec": {
   "display_name": "aoc23",
   "language": "python",
   "name": "aoc23"
  },
  "language_info": {
   "codemirror_mode": {
    "name": "ipython",
    "version": 3
   },
   "file_extension": ".py",
   "mimetype": "text/x-python",
   "name": "python",
   "nbconvert_exporter": "python",
   "pygments_lexer": "ipython3",
   "version": "3.12.0"
  }
 },
 "nbformat": 4,
 "nbformat_minor": 4
}
