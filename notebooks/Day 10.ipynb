{
 "cells": [
  {
   "cell_type": "code",
   "execution_count": 1,
   "metadata": {},
   "outputs": [],
   "source": [
    "# Add module to path\n",
    "import os\n",
    "import sys\n",
    "module_path = os.path.abspath(os.path.join('..'))\n",
    "if module_path not in sys.path:\n",
    "    sys.path.append(module_path)"
   ]
  },
  {
   "cell_type": "code",
   "execution_count": 2,
   "metadata": {},
   "outputs": [],
   "source": [
    "# Imports\n",
    "from aoc23.utils import read_input\n",
    "import math"
   ]
  },
  {
   "cell_type": "code",
   "execution_count": 3,
   "metadata": {},
   "outputs": [],
   "source": [
    "input_10 = read_input(10)"
   ]
  },
  {
   "cell_type": "markdown",
   "metadata": {},
   "source": [
    "## Part 1"
   ]
  },
  {
   "cell_type": "markdown",
   "metadata": {},
   "source": [
    "In the [day 10 puzzle](https://adventofcode.com/2023/day/10), we are given an array of tiles, each representing a square on the ground; each character represents a different type of pipe:\n",
    "> - `|` is a vertical pipe connecting north and south.\n",
    "> - `-` is a horizontal pipe connecting east and west.\n",
    "> - `L` is a 90-degree bend connecting north and east.\n",
    "> - `J` is a 90-degree bend connecting north and west.\n",
    "> - `7` is a 90-degree bend connecting south and west.\n",
    "> - `F` is a 90-degree bend connecting south and east.\n",
    "> - `.` is ground; there is no pipe in this tile.\n",
    "> - `S` is the starting position of the animal; there is a pipe on this tile, but your sketch doesn't show what shape the pipe has."
   ]
  },
  {
   "cell_type": "code",
   "execution_count": 4,
   "metadata": {},
   "outputs": [
    {
     "data": {
      "text/plain": [
       "['7-LJ7.F-F77FF-77FJ-J-F7FF|777F7--..JJ.F.7.|.F-J7-J777F7FF77F|.|7L-7.F-|7F7FF-J7LF|.7--7J-F.F--7-L--77.|F-J77F7F|-F-F7-J-FFF---F--77|FF7--L7.',\n",
       " 'L7.F--J.L7J7|---FJ-|JLF77L7J7F|-J7|J.FLLJ.FFF7|F7L7-J7LF7.-|L-77-LL7J.|.L-7JFJ7-7J7L-LFJF-7-|7|-|FL--J|L77L-J|7|F|-7J.|LLJJL|.|JF7-|-|||L|-F',\n",
       " 'F|--7.L-7|.-L-|.|7-LL-J|L-|.FJJ7F-..F|.L|FLJL7F7|F.L-|-7LJL|JL77-.|7|7.J.LF-7FJ7JF-J||J|FL77LJJ-7-77||F--7JL-7-LJJF--77LLF7F7-|.JJ|||JFF-|JF',\n",
       " 'FJ|L7-FL-L7J|FL-|LJFL7-F|LJ--J.F-7F-7L7--7.|F7J|F|7.L||F7J-J.FFJ.LLF-7F..-|--JLJF7J.LF.LJ|L-JJ.|.LJ-LFF7|L7-L|-LF7|F|7--7LJF77|7|LF|7FJ|L|F|',\n",
       " '|LF7L-7J||LF-FJ.|7FF-F--J-J-L-|JJLL.J.||L7-FF7|L-L-7F77L77FJFFLJ7|JL7F-77-L-JL--LJJ7L-77LJJJ|.FF-FJLL|L--L7F|JFLF7FLJ7FJJJFL7JJ77-7|LJL|.J-F']"
      ]
     },
     "execution_count": 4,
     "metadata": {},
     "output_type": "execute_result"
    }
   ],
   "source": [
    "input_10[:5]"
   ]
  },
  {
   "cell_type": "markdown",
   "metadata": {},
   "source": [
    "We are told that the section of pipe containing the `S` tile is a continuous loop; the first part of the puzzle is to find the length of the continuous loop (actually, it is the number of steps between `S` and the furthest point along the loop, but this is just $0.5*(\\text{loop_length}-1)$)."
   ]
  },
  {
   "cell_type": "markdown",
   "metadata": {},
   "source": [
    "Start by finding the location of the `S` tile within the array:"
   ]
  },
  {
   "cell_type": "code",
   "execution_count": 5,
   "metadata": {},
   "outputs": [],
   "source": [
    "# Array size\n",
    "n_rows = len(input_10)\n",
    "n_cols = len(input_10[0])"
   ]
  },
  {
   "cell_type": "code",
   "execution_count": 6,
   "metadata": {},
   "outputs": [
    {
     "name": "stdout",
     "output_type": "stream",
     "text": [
      "i=24, j=93\n"
     ]
    }
   ],
   "source": [
    "for row in range(n_rows):\n",
    "    if 'S' in input_10[row]:\n",
    "        col = input_10[row].index('S')\n",
    "        break\n",
    "\n",
    "# Use start_row, start_col as location of 'S' tile\n",
    "start_row, start_col = row, col\n",
    "assert input_10[start_row][start_col] == 'S'\n",
    "\n",
    "print(f'i={start_row}, j={start_col}')"
   ]
  },
  {
   "cell_type": "markdown",
   "metadata": {},
   "source": [
    "In order to know what kind of pipe tile the `S` is covering, let's visualise the tiles in the neighbourhood of the `S` tile:"
   ]
  },
  {
   "cell_type": "code",
   "execution_count": 7,
   "metadata": {},
   "outputs": [
    {
     "name": "stdout",
     "output_type": "stream",
     "text": [
      "FJF\n",
      "LSL\n",
      "7|F\n"
     ]
    }
   ],
   "source": [
    "S_neighbourhood = [\n",
    "    [input_10[i][j] for j in range(start_col - 1, start_col + 2)]\n",
    "                    for i in range(start_row - 1, start_row + 2)\n",
    "]\n",
    "\n",
    "for k in S_neighbourhood:\n",
    "    print(''.join(k))"
   ]
  },
  {
   "cell_type": "markdown",
   "metadata": {},
   "source": [
    "From this, it can be seen that the `S` is actually a `7` tile, connecting the `L` tile on the left to the `|` tile at the bottom."
   ]
  },
  {
   "cell_type": "markdown",
   "metadata": {},
   "source": [
    "It will be useful to have a map which, given a pipe tile type and an incoming direction, returns the outgoing direction:"
   ]
  },
  {
   "cell_type": "code",
   "execution_count": 8,
   "metadata": {},
   "outputs": [],
   "source": [
    "pipe_direction = {}\n",
    "\n",
    "# L\n",
    "pipe_direction[('L', 's')] = 'e'\n",
    "pipe_direction[('L', 'w')] = 'n'\n",
    "\n",
    "# J\n",
    "pipe_direction[('J', 's')] = 'w'\n",
    "pipe_direction[('J', 'e')] = 'n'\n",
    "\n",
    "# F\n",
    "pipe_direction[('F', 'n')] = 'e'\n",
    "pipe_direction[('F', 'w')] = 's'\n",
    "\n",
    "# 7\n",
    "pipe_direction[('7', 'n')] = 'w'\n",
    "pipe_direction[('7', 'e')] = 's'\n",
    "\n",
    "# |\n",
    "pipe_direction[('|', 'n')] = 'n'\n",
    "pipe_direction[('|', 's')] = 's'\n",
    "\n",
    "# -\n",
    "pipe_direction[('-', 'e')] = 'e'\n",
    "pipe_direction[('-', 'w')] = 'w'"
   ]
  },
  {
   "cell_type": "markdown",
   "metadata": {},
   "source": [
    "Also, this function will convert an index and a direction into a new index, obtained by taking a step in that direction:"
   ]
  },
  {
   "cell_type": "code",
   "execution_count": 9,
   "metadata": {},
   "outputs": [],
   "source": [
    "def new_index(row: int, col: int, direction: str):\n",
    "    match direction:\n",
    "        case 'n':\n",
    "            return (row-1, col)\n",
    "        case 'e':\n",
    "            return (row, col+1)\n",
    "        case 's':\n",
    "            return (row+1, col)\n",
    "        case 'w':\n",
    "            return (row, col-1)\n",
    "        case '_':\n",
    "            raise ValueError(f'direction {direction} not recognised!')"
   ]
  },
  {
   "cell_type": "markdown",
   "metadata": {},
   "source": [
    "So, starting at the `|` tile below the `S`, having moved south from the `S`, move from tile to tile until the `S` tile is reached again, keeping count of the length of the loop so far:"
   ]
  },
  {
   "cell_type": "code",
   "execution_count": 10,
   "metadata": {},
   "outputs": [],
   "source": [
    "# Start on the `|` tile below the `S` tile\n",
    "loop_length = 1\n",
    "row, col = start_row+1, start_col\n",
    "pipe_type = '|'\n",
    "direction = 's'\n",
    "\n",
    "# Keep track of the tiles on the loop for later\n",
    "loop_index_dict = {(start_row, start_col): 1}\n",
    "\n",
    "while pipe_type != 'S':\n",
    "    loop_length += 1\n",
    "    \n",
    "    # Track loop tiles\n",
    "    loop_index_dict[(row, col)] = 1\n",
    "    \n",
    "    # Move a step\n",
    "    direction = pipe_direction[(pipe_type, direction)]\n",
    "    row, col = new_index(row, col, direction)\n",
    "    pipe_type = input_10[row][col]"
   ]
  },
  {
   "cell_type": "markdown",
   "metadata": {},
   "source": [
    "The furthest point from the `S` tile is the point halfway around this loop (note that the `S` tile is excluded from this implementation of `loop_length`):"
   ]
  },
  {
   "cell_type": "code",
   "execution_count": 11,
   "metadata": {},
   "outputs": [
    {
     "data": {
      "text/plain": [
       "6956"
      ]
     },
     "execution_count": 11,
     "metadata": {},
     "output_type": "execute_result"
    }
   ],
   "source": [
    "loop_length // 2"
   ]
  },
  {
   "cell_type": "markdown",
   "metadata": {},
   "source": [
    "So the answer to part 1 is: __6956__."
   ]
  },
  {
   "cell_type": "markdown",
   "metadata": {},
   "source": [
    "## Part 2"
   ]
  },
  {
   "cell_type": "markdown",
   "metadata": {},
   "source": [
    "Now that the loop has been found, we are now asked to find the number of tiles (either ground or unused pipe) inside the loop. To avoid having to handle extra special cases, it is helpful to replace the `S` tile with a `7` tile, as we know that this is the true value:"
   ]
  },
  {
   "cell_type": "code",
   "execution_count": 12,
   "metadata": {},
   "outputs": [],
   "source": [
    "corrected_input = [input_10[row].replace('S', '7') for row in range(n_rows)]"
   ]
  },
  {
   "cell_type": "markdown",
   "metadata": {},
   "source": [
    "Now, the algorithm to compute the number of tiles inside the loop proceeds by looping over all the tiles line by line, and relies on a few key observations:\n",
    "- The edges of the array always lie outside the loop\n",
    "- Crossing a `|` loop tile will switch from inside to outside, and vice versa.\n",
    "- Crossing a set of loop tiles of the form `F...J` or `L...7` will also switch from inside to outside, or vice versa.\n",
    "- Crossing a set of loop tiles of the form `F...7` or `L...J` will not change from the in/outside.\n",
    "- There is no way of crossing loop tiles, other than in the above ways.\n",
    "\n",
    "So all that needs to be done is to keep a running count of the number of inside tiles seen, along with the types of loop tiles seen when crossed."
   ]
  },
  {
   "cell_type": "code",
   "execution_count": 13,
   "metadata": {},
   "outputs": [],
   "source": [
    "def count_inside_loop(input_list: list[str], loop_index_dict: dict[tuple[int], int]) -> int:\n",
    "    # Array size\n",
    "    n_rows = len(input_list)\n",
    "    n_cols = len(input_list[0])\n",
    "    \n",
    "    # Keep track of the inside tiles\n",
    "    num_inside_loop = 0\n",
    "    \n",
    "    # Iterate over tiles line by line\n",
    "    for i in range(n_rows):\n",
    "        \n",
    "        # Always start a row outside the loop\n",
    "        inside_loop = False\n",
    "        \n",
    "        # Keep track of the loop tile section when crossing\n",
    "        loop_tile_list = []\n",
    "\n",
    "        for j in range(n_cols):\n",
    "            tile = input_list[i][j]\n",
    "            \n",
    "            # Is this a loop tile? Check the loop_index_dict\n",
    "            is_loop_tile = (i, j) in loop_index_dict\n",
    "            \n",
    "            if is_loop_tile:\n",
    "                if tile == '|':\n",
    "                    # Switch from in <-> out\n",
    "                    inside_loop = not inside_loop\n",
    "                    loop_tile_list = []\n",
    "                    \n",
    "                elif tile in ['-', 'F', 'L']:\n",
    "                    # Start/middle of loop tile section\n",
    "                    loop_tile_list.append(tile)\n",
    "                    \n",
    "                elif (loop_tile_list[0] == 'F' and tile == '7') or (loop_tile_list[0] == 'L' and tile == 'J'):\n",
    "                    # F7 or LJ type - not a true crossing\n",
    "                    loop_tile_list = []\n",
    "                    \n",
    "                elif (loop_tile_list[0] == 'F' and tile == 'J') or (loop_tile_list[0] == 'L' and tile == '7'):\n",
    "                    # FJ or L7 type - switch from in <-> out\n",
    "                    inside_loop = not inside_loop\n",
    "                    loop_tile_list = []\n",
    "                    \n",
    "            elif inside_loop:\n",
    "                # Add to the counter if inside loop\n",
    "                num_inside_loop += 1\n",
    "\n",
    "    return num_inside_loop"
   ]
  },
  {
   "cell_type": "markdown",
   "metadata": {},
   "source": [
    "A test array has been provided, which can be used to check if the function is working as expected:"
   ]
  },
  {
   "cell_type": "code",
   "execution_count": 14,
   "metadata": {},
   "outputs": [],
   "source": [
    "test = [\n",
    "'.F----7F7F7F7F-7....',\n",
    "'.|F--7||||||||FJ....',\n",
    "'.||.FJ||||||||L7....',\n",
    "'FJL7L7LJLJ||LJ.L-7..',\n",
    "'L--J.L7...LJF7F-7L7.',\n",
    "'....F-J..F7FJ|L7L7L7',\n",
    "'....L7.F7||L7|.L7L7|',\n",
    "'.....|FJLJ|FJ|F7|.LJ',\n",
    "'....FJL-7.||.||||...',\n",
    "'....L---J.LJ.LJLJ...'\n",
    "]\n",
    "\n",
    "# Need to find the loop tiles first (as in part 1)\n",
    "i = 1\n",
    "row, col = 5, 12\n",
    "pipe_type = 'J'\n",
    "direction = 's'\n",
    "test_loop_index_dict = {(4, 12): 1}\n",
    "\n",
    "while (row, col) not in test_loop_index_dict:\n",
    "    i += 1\n",
    "    test_loop_index_dict[(row, col)] = 1\n",
    "    direction = pipe_direction[(pipe_type, direction)]\n",
    "    row, col = new_index(row, col, direction)\n",
    "    pipe_type = test[row][col]"
   ]
  },
  {
   "cell_type": "code",
   "execution_count": 15,
   "metadata": {},
   "outputs": [
    {
     "name": "stdout",
     "output_type": "stream",
     "text": [
      "Success!\n"
     ]
    }
   ],
   "source": [
    "assert count_inside_loop(test, test_loop_index_dict) == 8\n",
    "print('Success!')"
   ]
  },
  {
   "cell_type": "markdown",
   "metadata": {},
   "source": [
    "And so the number of tiles inside the loop for the main puzzle input can be computed:"
   ]
  },
  {
   "cell_type": "code",
   "execution_count": 16,
   "metadata": {},
   "outputs": [
    {
     "data": {
      "text/plain": [
       "455"
      ]
     },
     "execution_count": 16,
     "metadata": {},
     "output_type": "execute_result"
    }
   ],
   "source": [
    "count_inside_loop(corrected_input, loop_index_dict)"
   ]
  },
  {
   "cell_type": "markdown",
   "metadata": {},
   "source": [
    "So the answer to part 2 is: __455__."
   ]
  }
 ],
 "metadata": {
  "kernelspec": {
   "display_name": "aoc23",
   "language": "python",
   "name": "aoc23"
  },
  "language_info": {
   "codemirror_mode": {
    "name": "ipython",
    "version": 3
   },
   "file_extension": ".py",
   "mimetype": "text/x-python",
   "name": "python",
   "nbconvert_exporter": "python",
   "pygments_lexer": "ipython3",
   "version": "3.12.0"
  }
 },
 "nbformat": 4,
 "nbformat_minor": 4
}
