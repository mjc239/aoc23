{
 "cells": [
  {
   "cell_type": "code",
   "execution_count": null,
   "metadata": {},
   "outputs": [],
   "source": [
    "# Add module to path\n",
    "import os\n",
    "import sys\n",
    "module_path = os.path.abspath(os.path.join('..'))\n",
    "if module_path not in sys.path:\n",
    "    sys.path.append(module_path)"
   ]
  },
  {
   "cell_type": "code",
   "execution_count": null,
   "metadata": {},
   "outputs": [],
   "source": [
    "# Imports\n",
    "from aoc23.utils import read_input\n",
    "import math"
   ]
  },
  {
   "cell_type": "code",
   "execution_count": null,
   "metadata": {},
   "outputs": [],
   "source": [
    "input_15 = read_input(15)"
   ]
  },
  {
   "cell_type": "markdown",
   "metadata": {},
   "source": [
    "## Part 1"
   ]
  },
  {
   "cell_type": "markdown",
   "metadata": {},
   "source": [
    "In part 1 of the [day 15 puzzle](https://adventofcode.com/2023/day/15), we are asked to implement a simple hash function, which maps strings to integers in the range $[0, 255]$. The algorithm looks up the ASCII code each each character (using the built-in `ord` function in Python), multiplies by $17$ and takes the remainder mod $256$:"
   ]
  },
  {
   "cell_type": "code",
   "execution_count": null,
   "metadata": {},
   "outputs": [],
   "source": [
    "def hash_algorithm(string: str) -> int:\n",
    "    ascii_codes = [ord(char) for char in string]\n",
    "    current_value = 0\n",
    "    for code in ascii_codes:\n",
    "        current_value += code\n",
    "        current_value = (17*current_value) % 256\n",
    "    return current_value"
   ]
  },
  {
   "cell_type": "code",
   "execution_count": 5,
   "metadata": {},
   "outputs": [],
   "source": [
    "assert hash_algorithm('rn=1') == 30\n",
    "assert hash_algorithm('cm-') == 253\n",
    "assert hash_algorithm('qp=3') == 97\n",
    "assert hash_algorithm('cm=2') == 47"
   ]
  },
  {
   "cell_type": "markdown",
   "metadata": {},
   "source": [
    "On the provided test input, the sum of these hashes for each step should equal $1320$:"
   ]
  },
  {
   "cell_type": "code",
   "execution_count": 6,
   "metadata": {},
   "outputs": [
    {
     "data": {
      "text/plain": [
       "1320"
      ]
     },
     "execution_count": 6,
     "metadata": {},
     "output_type": "execute_result"
    }
   ],
   "source": [
    "test_input = 'rn=1,cm-,qp=3,cm=2,qp-,pc=4,ot=9,ab=5,pc-,pc=6,ot=7'\n",
    "test_steps = test_input.split(',')\n",
    "sum([hash_algorithm(step) for step in test_steps])"
   ]
  },
  {
   "cell_type": "markdown",
   "metadata": {},
   "source": [
    "And the sum for the full list of input strings is:"
   ]
  },
  {
   "cell_type": "code",
   "execution_count": 7,
   "metadata": {},
   "outputs": [
    {
     "data": {
      "text/plain": [
       "521434"
      ]
     },
     "execution_count": 7,
     "metadata": {},
     "output_type": "execute_result"
    }
   ],
   "source": [
    "steps = input_15[0].split(',')\n",
    "sum([hash_algorithm(step) for step in steps])"
   ]
  },
  {
   "cell_type": "markdown",
   "metadata": {},
   "source": [
    "So the answer to part 1 is: __521434__."
   ]
  },
  {
   "cell_type": "markdown",
   "metadata": {},
   "source": [
    "## Part 2"
   ]
  },
  {
   "cell_type": "markdown",
   "metadata": {},
   "source": [
    "There are now 256 boxes, in which there are slots into which lenses can be placed. Each lens has a different focal length, which is an integer in the range $[0, 9]$. Now, the hash shouldn't be applied to the whole string, but only to the portion before the `=` or `-` characters; the original portion of string is the label of the new lens, and the hash tells us which of the boxes to modify the contents of at each step. What needs to be done next depends on which subsequent character is present:\n",
    "\n",
    "- If the next character is `-`, then we remove the lens in the chosen box with the matching label (if it exists). All other lenses are shuffled up to remove any gaps\n",
    "- If the next character is `=`, then we replace the lens currently in the chosen box with the matching label, if it exists. If there is not a lens with a matching label, add the new lens to the next slot in the box (leaving no gaps).\n",
    "\n",
    "The `dict` type in Python is the ideal data structure to use here, as it has the following properties:\n",
    "- Checking for membership is quick (independent of the size of the dict)\n",
    "- The keys are kept in the order in which they are added. Therefore, when looping over all keys in the `dict`, we will obtain them from oldest to newest by default\n",
    "- The `pop` method allows keys to be removed from the `dict`, without interfering with the order of the remaining keys."
   ]
  },
  {
   "cell_type": "markdown",
   "metadata": {},
   "source": [
    "Here is the implementation of the lens fitting process:"
   ]
  },
  {
   "cell_type": "code",
   "execution_count": 8,
   "metadata": {},
   "outputs": [],
   "source": [
    "def place_lenses(steps: list[str]) -> list[dict[str, int]]:\n",
    "    \n",
    "    # Each box: {label: focal}\n",
    "    boxes = [{} for _ in range(256)]\n",
    "    \n",
    "    for step in steps:\n",
    "        if step[-1] == '-':\n",
    "            # Get label and box index\n",
    "            label = step[:-1]\n",
    "            box_idx = hash_algorithm(label)\n",
    "            \n",
    "            # Remove lens (if it exists)\n",
    "            boxes[box_idx].pop(label, None)\n",
    "            \n",
    "        elif '=' in step:\n",
    "            # Get label, focal length and box index\n",
    "            label, focal = step.split('=')\n",
    "            box_idx = hash_algorithm(label)\n",
    "            \n",
    "            # Replace or add lens\n",
    "            boxes[box_idx][label] = int(focal)\n",
    "\n",
    "        else:\n",
    "            raise ValueError('invalid step!')\n",
    "    \n",
    "    return boxes"
   ]
  },
  {
   "cell_type": "markdown",
   "metadata": {},
   "source": [
    "Let's check this on the provided test case:"
   ]
  },
  {
   "cell_type": "code",
   "execution_count": 9,
   "metadata": {},
   "outputs": [],
   "source": [
    "test_boxes = place_lenses(test_steps)"
   ]
  },
  {
   "cell_type": "code",
   "execution_count": 10,
   "metadata": {},
   "outputs": [
    {
     "name": "stdout",
     "output_type": "stream",
     "text": [
      "Box 0: {'rn': 1, 'cm': 2}\n",
      "Box 3: {'ot': 7, 'ab': 5, 'pc': 6}\n"
     ]
    }
   ],
   "source": [
    "for i, box in enumerate(test_boxes):\n",
    "    if len(box) != 0:\n",
    "        print(f'Box {i}: {box}')"
   ]
  },
  {
   "cell_type": "markdown",
   "metadata": {},
   "source": [
    "This matches what was expected. Furthermore, the focusing power can be computed from the boxes easily:"
   ]
  },
  {
   "cell_type": "code",
   "execution_count": 11,
   "metadata": {},
   "outputs": [],
   "source": [
    "def compute_focusing_power(boxes):\n",
    "    power = 0\n",
    "    for box_num, box in enumerate(boxes):\n",
    "        for slot, (label, focal) in enumerate(box.items()):\n",
    "            power += (box_num + 1)*(slot + 1)*focal\n",
    "    return power"
   ]
  },
  {
   "cell_type": "code",
   "execution_count": 12,
   "metadata": {},
   "outputs": [
    {
     "name": "stdout",
     "output_type": "stream",
     "text": [
      "Success!\n"
     ]
    }
   ],
   "source": [
    "assert compute_focusing_power(test_boxes) == 145\n",
    "print('Success!')"
   ]
  },
  {
   "cell_type": "markdown",
   "metadata": {},
   "source": [
    "Finally, we can compute the boxes and focusing power on the full set of input steps:"
   ]
  },
  {
   "cell_type": "code",
   "execution_count": 13,
   "metadata": {},
   "outputs": [
    {
     "data": {
      "text/plain": [
       "248279"
      ]
     },
     "execution_count": 13,
     "metadata": {},
     "output_type": "execute_result"
    }
   ],
   "source": [
    "boxes = place_lenses(steps)\n",
    "compute_focusing_power(boxes)"
   ]
  },
  {
   "cell_type": "markdown",
   "metadata": {},
   "source": [
    "So the answer to part 2 is: __248279__."
   ]
  }
 ],
 "metadata": {
  "kernelspec": {
   "display_name": "aoc23",
   "language": "python",
   "name": "aoc23"
  },
  "language_info": {
   "codemirror_mode": {
    "name": "ipython",
    "version": 3
   },
   "file_extension": ".py",
   "mimetype": "text/x-python",
   "name": "python",
   "nbconvert_exporter": "python",
   "pygments_lexer": "ipython3",
   "version": "3.12.0"
  }
 },
 "nbformat": 4,
 "nbformat_minor": 4
}
