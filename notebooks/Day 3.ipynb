{
 "cells": [
  {
   "cell_type": "code",
   "execution_count": 1,
   "metadata": {},
   "outputs": [],
   "source": [
    "# Add module to path\n",
    "import os\n",
    "import sys\n",
    "module_path = os.path.abspath(os.path.join('..'))\n",
    "if module_path not in sys.path:\n",
    "    sys.path.append(module_path)"
   ]
  },
  {
   "cell_type": "code",
   "execution_count": 2,
   "metadata": {},
   "outputs": [],
   "source": [
    "# Imports\n",
    "from aoc23.utils import read_input\n",
    "import math\n",
    "from collections import defaultdict"
   ]
  },
  {
   "cell_type": "code",
   "execution_count": 3,
   "metadata": {},
   "outputs": [],
   "source": [
    "input_3 = read_input(3)"
   ]
  },
  {
   "cell_type": "markdown",
   "metadata": {},
   "source": [
    "## Part 1"
   ]
  },
  {
   "cell_type": "code",
   "execution_count": 4,
   "metadata": {},
   "outputs": [
    {
     "data": {
      "text/plain": [
       "'................458...689.556..3............197......582........720.........................515..352..286.........670.741.....895.626.......'"
      ]
     },
     "execution_count": 4,
     "metadata": {},
     "output_type": "execute_result"
    }
   ],
   "source": [
    "input_3[0]"
   ]
  },
  {
   "cell_type": "code",
   "execution_count": 5,
   "metadata": {},
   "outputs": [],
   "source": [
    "line_length = len(input_3[0])"
   ]
  },
  {
   "cell_type": "markdown",
   "metadata": {},
   "source": [
    "To start, let's pad each the input by adding a line of `.` characters at the start and end of the input. By doing this, we won't need to worry about handling the start and end lines differently, as long as we remember to start at the second line and end at the penultimate line:"
   ]
  },
  {
   "cell_type": "code",
   "execution_count": 6,
   "metadata": {},
   "outputs": [],
   "source": [
    "padded_input = [line_length*'.', *input_3, line_length*'.']"
   ]
  },
  {
   "cell_type": "markdown",
   "metadata": {},
   "source": [
    "Also, adding an extra `.` to the start and end of each line will not change the result, but will mean we can treat each character of the original string equally (i.e. no special treatment for the first or last character):"
   ]
  },
  {
   "cell_type": "code",
   "execution_count": 7,
   "metadata": {},
   "outputs": [],
   "source": [
    "padded_input = [f'.{line}.' for line in padded_input]\n",
    "padded_input_trimmed = [line[:100] for line in padded_input]"
   ]
  },
  {
   "cell_type": "markdown",
   "metadata": {},
   "source": [
    "We end up with a padded input that looks like this:"
   ]
  },
  {
   "cell_type": "code",
   "execution_count": 8,
   "metadata": {},
   "outputs": [
    {
     "name": "stdout",
     "output_type": "stream",
     "text": [
      "..............................................................................................................................................\n",
      ".................458...689.556..3............197......582........720.........................515..352..286.........670.741.....895.626........\n",
      "....910.743..........................13..........................*.............775...956........@.........*................971.-..............\n",
      ".....*......406.507.97..846..............968+.........253........730...574............#....308......*.....798..............*.......894........\n",
      ".....555...............*......%...............980.+43..=..239..........*......495................638.111.........*490...124...*........576....\n"
     ]
    }
   ],
   "source": [
    "for line in padded_input[:5]:\n",
    "    print(line)"
   ]
  },
  {
   "cell_type": "markdown",
   "metadata": {},
   "source": [
    "Now, let's create some helper functions which will be useful for the main function later on:"
   ]
  },
  {
   "cell_type": "code",
   "execution_count": 9,
   "metadata": {},
   "outputs": [],
   "source": [
    "def is_symbol(char: str) -> bool:\n",
    "    return (not char.isalnum()) and (char != '.')"
   ]
  },
  {
   "cell_type": "code",
   "execution_count": 10,
   "metadata": {},
   "outputs": [],
   "source": [
    "def current_number_list_to_int(current_number_list: list[str]) -> int:\n",
    "    return int(''.join(current_number_list))"
   ]
  },
  {
   "cell_type": "markdown",
   "metadata": {},
   "source": [
    "The strategy for finding all the 'part-numbers' (the numbers which are adjacent to a symbol) is the following:\n",
    "```\n",
    "Create a size (len(lines), len(line[0]) array, where each element is a boolean \n",
    "indicating whether the corresponding character from the grid is a symbol or not.\n",
    "\n",
    "For each line (excluding first and last):\n",
    "    For each character in the string:\n",
    "        If the character is a number:\n",
    "            Check if the characters above/below and to the left are symbols\n",
    "            If so, update the number inclusion flag\n",
    "        If the character is a symbol, or the character above/below or above/below and to the left is a symbol:\n",
    "            Update the number inclusion flag\n",
    "        If we have reached the end of a number and the number inclusion flag is True:\n",
    "            Append the number to the inclusion list\n",
    "        If the character is a '.':\n",
    "            Turn the number inclusion flag off\n",
    "```"
   ]
  },
  {
   "cell_type": "markdown",
   "metadata": {},
   "source": [
    "This diagram might help visualise the elements of the boolean symbol array which are being checked at each step:"
   ]
  },
  {
   "cell_type": "markdown",
   "metadata": {},
   "source": [
    "| ![Symbol checking order](aoc_day3.png) |\n",
    "|:--:|\n",
    "| *The order in which the elements of the symbol array are checked, as we loop over centre line* |\n",
    "| *(red -> orange -> yellow -> green -> blue)* |"
   ]
  },
  {
   "cell_type": "code",
   "execution_count": 11,
   "metadata": {},
   "outputs": [],
   "source": [
    "def part_numbers(lines: list[str]) -> list[int]:\n",
    "    integer_list = []\n",
    "    line_length = len(lines[0])\n",
    "    symbol_arr = [[is_symbol(i) for i in line] for line in lines]\n",
    "    \n",
    "    for i in range(1, len(lines)-1):\n",
    "        # Initialise quantities for this line\n",
    "        line = lines[i]\n",
    "        add_this_number = False\n",
    "        current_number_list = []\n",
    "\n",
    "        for j in range(line_length):\n",
    "            # If this character is a digit, check for symbols above and below\n",
    "            if line[j].isdigit():\n",
    "                add_this_number = any([add_this_number, \n",
    "                                       symbol_arr[i-1][j-1], \n",
    "                                       symbol_arr[i+1][j-1]])\n",
    "                current_number_list.append(line[j])\n",
    "            else:\n",
    "                if symbol_arr[i][j] or symbol_arr[i-1][j] or symbol_arr[i+1][j] or symbol_arr[i-1][j-1] or symbol_arr[i+1][j-1]:\n",
    "                    # Update flag if in neighbourhood of symbol\n",
    "                    add_this_number = True\n",
    "                    \n",
    "                if add_this_number and len(current_number_list) > 0:\n",
    "                    # Update inclusion list if flag is True\n",
    "                    integer_list.append(current_number_list_to_int(current_number_list))\n",
    "                    current_number_list = []\n",
    "                    \n",
    "                if line[j] == '.':\n",
    "                    # Reset flag\n",
    "                    add_this_number = False\n",
    "                    current_number_list = []\n",
    "                    \n",
    "    return integer_list"
   ]
  },
  {
   "cell_type": "code",
   "execution_count": 12,
   "metadata": {},
   "outputs": [
    {
     "data": {
      "text/plain": [
       "531561"
      ]
     },
     "execution_count": 12,
     "metadata": {},
     "output_type": "execute_result"
    }
   ],
   "source": [
    "sum(part_numbers(padded_input))"
   ]
  },
  {
   "cell_type": "markdown",
   "metadata": {},
   "source": [
    "Part 1 answer: __531561__."
   ]
  },
  {
   "cell_type": "markdown",
   "metadata": {},
   "source": [
    "This puzzle was quite fiddly, so I wrote some quick example cases which can be used to check if the code is working as intended:"
   ]
  },
  {
   "cell_type": "code",
   "execution_count": 13,
   "metadata": {},
   "outputs": [],
   "source": [
    "test_inputs = [\n",
    "    ['.....', \n",
    "     '..1..', \n",
    "     '.....'],\n",
    "    ['.*...', \n",
    "     '..1..', \n",
    "     '.....'],\n",
    "    ['..*..', \n",
    "     '..1..', \n",
    "     '.....'],\n",
    "    ['...*.', \n",
    "     '..1..', \n",
    "     '.....'],\n",
    "    ['.....', \n",
    "     '..1*.', \n",
    "     '.....'],\n",
    "    ['.....', \n",
    "     '..1..', \n",
    "     '...*.'],\n",
    "    ['.....', \n",
    "     '..1..', \n",
    "     '..*..'],\n",
    "    ['.....', \n",
    "     '..1..', \n",
    "     '.*...'],\n",
    "    ['.....', \n",
    "     '.*1..', \n",
    "     '.....']\n",
    "]\n",
    "\n",
    "test_answers = [[], [1], [1], [1], [1], [1], [1], [1], [1]]"
   ]
  },
  {
   "cell_type": "code",
   "execution_count": 14,
   "metadata": {},
   "outputs": [
    {
     "name": "stdout",
     "output_type": "stream",
     "text": [
      "All passed!\n"
     ]
    }
   ],
   "source": [
    "for test_input, test_answer in zip(test_inputs, test_answers):\n",
    "    assert part_numbers(test_input) == test_answer, f\"{test_input}\"\n",
    "print('All passed!')"
   ]
  },
  {
   "cell_type": "markdown",
   "metadata": {},
   "source": [
    "## Part 2"
   ]
  },
  {
   "cell_type": "code",
   "execution_count": 15,
   "metadata": {},
   "outputs": [],
   "source": [
    "def compute_gear_numbers(lines):\n",
    "    gear_list = []\n",
    "    line_length = len(lines[0])\n",
    "    gear_arr = [[i=='*' for i in line] for line in lines]\n",
    "    \n",
    "    for i in range(1, len(lines)-1):\n",
    "        # Initialise quantities for this line\n",
    "        line = lines[i]\n",
    "        add_this_number = False\n",
    "        current_number_list = []\n",
    "        current_gear_locations = []\n",
    "\n",
    "        for j in range(line_length):\n",
    "            # If this character is a digit, check for gears above and below\n",
    "            if line[j].isdigit():\n",
    "                add_this_number = any([add_this_number,\n",
    "                                       gear_arr[i-1][j-1], \n",
    "                                       gear_arr[i+1][j-1]])\n",
    "                if gear_arr[i-1][j-1]:\n",
    "                    current_gear_locations.append((i-1, j-1))\n",
    "                if gear_arr[i+1][j-1]:\n",
    "                    current_gear_locations.append((i+1, j-1))\n",
    "                current_number_list.append(line[j])\n",
    "            else:\n",
    "                for m, n in [(i, j), (i-1, j), (i+1, j), (i-1, j-1), (i+1, j-1)]:\n",
    "                    if gear_arr[m][n]:\n",
    "                        add_this_number = True\n",
    "                        current_gear_locations.append((m, n))\n",
    "                    \n",
    "                if add_this_number and len(current_number_list) > 0:\n",
    "                    gear_list.append([current_number_list_to_int(current_number_list), set(current_gear_locations)])\n",
    "                    current_number_list = []\n",
    "                if line[j] == '.':\n",
    "                    add_this_number = False\n",
    "                    current_number_list = []\n",
    "                    current_gear_locations = []\n",
    "    return gear_list       "
   ]
  },
  {
   "cell_type": "code",
   "execution_count": 16,
   "metadata": {},
   "outputs": [],
   "source": [
    "gear_numbers = compute_gear_numbers(padded_input)"
   ]
  },
  {
   "cell_type": "code",
   "execution_count": 17,
   "metadata": {},
   "outputs": [
    {
     "data": {
      "text/plain": [
       "[[720, {(2, 65)}],\n",
       " [286, {(2, 106)}],\n",
       " [910, {(3, 5)}],\n",
       " [971, {(3, 123)}],\n",
       " [846, {(4, 23)}]]"
      ]
     },
     "execution_count": 17,
     "metadata": {},
     "output_type": "execute_result"
    }
   ],
   "source": [
    "gear_numbers[:5]"
   ]
  },
  {
   "cell_type": "markdown",
   "metadata": {},
   "source": [
    "For each number, we now have a set of locations of the neighbouring `*` characters. We can invert this, to create a map from `*` locations to neighbouring numbers:"
   ]
  },
  {
   "cell_type": "code",
   "execution_count": 18,
   "metadata": {},
   "outputs": [],
   "source": [
    "d = defaultdict(list)"
   ]
  },
  {
   "cell_type": "code",
   "execution_count": 19,
   "metadata": {},
   "outputs": [],
   "source": [
    "for number, gear_locations in gear_numbers:\n",
    "    for gear_location in gear_locations:\n",
    "        d[gear_location].append(number)"
   ]
  },
  {
   "cell_type": "markdown",
   "metadata": {},
   "source": [
    "And finally, by summing up the products of the numbers which are neighbouring the same `*`, we get our final answer:"
   ]
  },
  {
   "cell_type": "code",
   "execution_count": 20,
   "metadata": {},
   "outputs": [
    {
     "data": {
      "text/plain": [
       "83279367"
      ]
     },
     "execution_count": 20,
     "metadata": {},
     "output_type": "execute_result"
    }
   ],
   "source": [
    "sum_ratios = 0\n",
    "for gear_location, numbers in d.items():\n",
    "    assert len(numbers) <= 2, \"Don't know how to handle 3 or more numbers next to same gear!\"\n",
    "    if len(numbers) == 2:\n",
    "        sum_ratios += math.prod(numbers)\n",
    "\n",
    "sum_ratios"
   ]
  },
  {
   "cell_type": "markdown",
   "metadata": {},
   "source": [
    "Part 2 answer is: __83279367__."
   ]
  }
 ],
 "metadata": {
  "kernelspec": {
   "display_name": "aoc23",
   "language": "python",
   "name": "aoc23"
  },
  "language_info": {
   "codemirror_mode": {
    "name": "ipython",
    "version": 3
   },
   "file_extension": ".py",
   "mimetype": "text/x-python",
   "name": "python",
   "nbconvert_exporter": "python",
   "pygments_lexer": "ipython3",
   "version": "3.12.0"
  }
 },
 "nbformat": 4,
 "nbformat_minor": 4
}
