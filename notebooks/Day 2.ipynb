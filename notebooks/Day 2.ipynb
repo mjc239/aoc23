{
 "cells": [
  {
   "cell_type": "code",
   "execution_count": 2,
   "metadata": {},
   "outputs": [],
   "source": [
    "# Add module to path\n",
    "import os\n",
    "import sys\n",
    "module_path = os.path.abspath(os.path.join('..'))\n",
    "if module_path not in sys.path:\n",
    "    sys.path.append(module_path)"
   ]
  },
  {
   "cell_type": "code",
   "execution_count": 98,
   "metadata": {},
   "outputs": [],
   "source": [
    "# Imports\n",
    "from aoc23.utils import read_input\n",
    "import math"
   ]
  },
  {
   "cell_type": "code",
   "execution_count": 4,
   "metadata": {},
   "outputs": [],
   "source": [
    "input_2 = read_input(2)"
   ]
  },
  {
   "cell_type": "markdown",
   "metadata": {},
   "source": [
    "## Part 1"
   ]
  },
  {
   "cell_type": "markdown",
   "metadata": {},
   "source": [
    "In the first part of today's puzzle, we are given a collection of games; each game consists of several rounds, and each round consists of multiple cubes being drawn from a bag. The bag can contain cubes of three different colours (red, green or blue), but we do not know in advance what is in the bag. So for each round of each game, we receive details of the number of cubes of each colour drawn (e.g. 3 red, 5 green, 2 blue). The first task is to determine which of the games is compatible with a hypothetical bag, containing 12 red, 13 green and 14 green cubes."
   ]
  },
  {
   "cell_type": "markdown",
   "metadata": {},
   "source": [
    "Firstly, let's process the input into a more useful form. The line describing each game is a string that is of this form:"
   ]
  },
  {
   "cell_type": "code",
   "execution_count": 115,
   "metadata": {},
   "outputs": [
    {
     "data": {
      "text/plain": [
       "'Game 2: 1 green, 19 blue, 1 red; 8 blue, 4 red; 3 red, 6 blue; 1 green, 1 red, 12 blue'"
      ]
     },
     "execution_count": 115,
     "metadata": {},
     "output_type": "execute_result"
    }
   ],
   "source": [
    "input_2[1]"
   ]
  },
  {
   "cell_type": "markdown",
   "metadata": {},
   "source": [
    "So let's convert this to something more useful - a dictionary mapping game numbers to a separate list; each element of these lists represents a round, and consists of another dictionary mapping colours to the number of times that colour was drawn in that round. In other words, the type of this object is `dict[int, list[dict[str, int]]]`:"
   ]
  },
  {
   "cell_type": "code",
   "execution_count": 118,
   "metadata": {},
   "outputs": [],
   "source": [
    "def convert_round_string_to_dict(round_string: str) -> dict[str, int]:\n",
    "    round_dict = {}\n",
    "    strings = round_string.split(', ')\n",
    "    for s in strings:\n",
    "        num, colour = s.split(' ')\n",
    "        round_dict[colour] = int(num)\n",
    "    return round_dict"
   ]
  },
  {
   "cell_type": "code",
   "execution_count": 119,
   "metadata": {},
   "outputs": [],
   "source": [
    "def process_input_2(input_2: list[str]) -> dict[int, list[dict[str, int]]]:\n",
    "    games = {}\n",
    "    for line in input_2:\n",
    "        game_str, rounds_str = line.split(': ')\n",
    "        game = int(game_str.split(' ')[-1])\n",
    "        round_strings = rounds_str.split('; ')\n",
    "        rounds = [convert_round_string_to_dict(round_str) for round_str in round_strings]\n",
    "        games[game] = rounds\n",
    "    \n",
    "    return games"
   ]
  },
  {
   "cell_type": "code",
   "execution_count": 110,
   "metadata": {},
   "outputs": [],
   "source": [
    "processed_input = process_input_2(input_2)"
   ]
  },
  {
   "cell_type": "code",
   "execution_count": 111,
   "metadata": {
    "scrolled": true
   },
   "outputs": [
    {
     "data": {
      "text/plain": [
       "[{'green': 3, 'blue': 1, 'red': 3},\n",
       " {'blue': 3, 'green': 1, 'red': 3},\n",
       " {'red': 2, 'green': 12, 'blue': 7},\n",
       " {'red': 1, 'blue': 4, 'green': 5},\n",
       " {'green': 7, 'blue': 2, 'red': 2}]"
      ]
     },
     "execution_count": 111,
     "metadata": {},
     "output_type": "execute_result"
    }
   ],
   "source": [
    "processed_input[1]"
   ]
  },
  {
   "cell_type": "markdown",
   "metadata": {},
   "source": [
    "Define the hypothetical bag contents, and then for each round check whether the number of drawn cubes of each colour are less than the hypothetical contents:"
   ]
  },
  {
   "cell_type": "code",
   "execution_count": 120,
   "metadata": {},
   "outputs": [],
   "source": [
    "hypothetical = {'red': 12, 'green': 13, 'blue': 14}"
   ]
  },
  {
   "cell_type": "code",
   "execution_count": 121,
   "metadata": {},
   "outputs": [],
   "source": [
    "def check_round_possible(round: dict[str, int], hypothetical: dict[str, int]) -> bool:\n",
    "    return all([\n",
    "        round[colour] <= hypothetical[colour] \n",
    "        for colour in round\n",
    "    ])"
   ]
  },
  {
   "cell_type": "code",
   "execution_count": 122,
   "metadata": {},
   "outputs": [],
   "source": [
    "def is_game_possible(game: list[dict[str, int]], hypothetical: dict[str, int]) -> bool:\n",
    "    return all([\n",
    "        check_round_possible(round, hypothetical) \n",
    "        for round in game\n",
    "    ])"
   ]
  },
  {
   "cell_type": "code",
   "execution_count": 123,
   "metadata": {},
   "outputs": [
    {
     "data": {
      "text/plain": [
       "1853"
      ]
     },
     "execution_count": 123,
     "metadata": {},
     "output_type": "execute_result"
    }
   ],
   "source": [
    "sum([\n",
    "    game_num \n",
    "    for game_num, game in processed_input.items()\n",
    "    if is_game_possible(game, hypothetical)\n",
    "])"
   ]
  },
  {
   "cell_type": "markdown",
   "metadata": {},
   "source": [
    "And so the part 1 answer is __1853__."
   ]
  },
  {
   "cell_type": "markdown",
   "metadata": {},
   "source": [
    "## Part 2"
   ]
  },
  {
   "cell_type": "markdown",
   "metadata": {},
   "source": [
    "In the second part, we are asked to compute the minimum number of possible cubes in the bag for each game, and then compute the 'power' of each minimum bag. Easy enough - for each game, the minimum number of red cubes is the maximum number of red cubes drawn in all the rounds (and likewise for green and blue cubes)."
   ]
  },
  {
   "cell_type": "code",
   "execution_count": 124,
   "metadata": {},
   "outputs": [],
   "source": [
    "def compute_minimum_set(game: list[dict[str, int]]) -> dict[str, int]:\n",
    "    minimum_set = {'blue': 0, 'green': 0, 'red': 0}\n",
    "    for round in game:\n",
    "        minimum_set = {\n",
    "            colour: max(minimum_set[colour], round.get(colour, 0))\n",
    "            for colour in ['blue', 'red', 'green']\n",
    "        }\n",
    "    return minimum_set"
   ]
  },
  {
   "cell_type": "code",
   "execution_count": 125,
   "metadata": {},
   "outputs": [
    {
     "data": {
      "text/plain": [
       "252"
      ]
     },
     "execution_count": 125,
     "metadata": {},
     "output_type": "execute_result"
    }
   ],
   "source": [
    "math.prod(compute_minimum_set(processed_input[1]).values())"
   ]
  },
  {
   "cell_type": "code",
   "execution_count": 126,
   "metadata": {},
   "outputs": [
    {
     "data": {
      "text/plain": [
       "[{'green': 3, 'blue': 1, 'red': 3},\n",
       " {'blue': 3, 'green': 1, 'red': 3},\n",
       " {'red': 2, 'green': 12, 'blue': 7},\n",
       " {'red': 1, 'blue': 4, 'green': 5},\n",
       " {'green': 7, 'blue': 2, 'red': 2}]"
      ]
     },
     "execution_count": 126,
     "metadata": {},
     "output_type": "execute_result"
    }
   ],
   "source": [
    "processed_input[1]"
   ]
  },
  {
   "cell_type": "markdown",
   "metadata": {},
   "source": [
    "The power of each bag is the product of the minimum bag contents of each colour; adding these up gives the final answer:"
   ]
  },
  {
   "cell_type": "code",
   "execution_count": 104,
   "metadata": {},
   "outputs": [],
   "source": [
    "power_sum = 0\n",
    "for game in processed_input.values():\n",
    "    minimum_set = compute_minimum_set(game)\n",
    "    power = math.prod(minimum_set.values())\n",
    "    power_sum += power"
   ]
  },
  {
   "cell_type": "code",
   "execution_count": 105,
   "metadata": {},
   "outputs": [
    {
     "data": {
      "text/plain": [
       "72706"
      ]
     },
     "execution_count": 105,
     "metadata": {},
     "output_type": "execute_result"
    }
   ],
   "source": [
    "power_sum"
   ]
  },
  {
   "cell_type": "markdown",
   "metadata": {},
   "source": [
    "And so the part 2 answer is: __72706__."
   ]
  }
 ],
 "metadata": {
  "kernelspec": {
   "display_name": "aoc23",
   "language": "python",
   "name": "aoc23"
  },
  "language_info": {
   "codemirror_mode": {
    "name": "ipython",
    "version": 3
   },
   "file_extension": ".py",
   "mimetype": "text/x-python",
   "name": "python",
   "nbconvert_exporter": "python",
   "pygments_lexer": "ipython3",
   "version": "3.12.0"
  }
 },
 "nbformat": 4,
 "nbformat_minor": 4
}
