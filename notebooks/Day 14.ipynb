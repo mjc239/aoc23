{
 "cells": [
  {
   "cell_type": "code",
   "execution_count": null,
   "metadata": {},
   "outputs": [],
   "source": [
    "# Add module to path\n",
    "import os\n",
    "import sys\n",
    "module_path = os.path.abspath(os.path.join('..'))\n",
    "if module_path not in sys.path:\n",
    "    sys.path.append(module_path)"
   ]
  },
  {
   "cell_type": "code",
   "execution_count": null,
   "metadata": {},
   "outputs": [],
   "source": [
    "# Imports\n",
    "from aoc23.utils import read_input\n",
    "import math"
   ]
  },
  {
   "cell_type": "code",
   "execution_count": null,
   "metadata": {},
   "outputs": [],
   "source": [
    "input_14 = read_input(14)"
   ]
  },
  {
   "cell_type": "markdown",
   "metadata": {},
   "source": [
    "## Part 1"
   ]
  },
  {
   "cell_type": "markdown",
   "metadata": {},
   "source": [
    "In part 1 of [this puzzle](https://adventofcode.com/2023/day/14), we are given a large array containing 3 types of characters, representing different physical objects sitting on top a moveable platform:\n",
    "\n",
    "- `O` = round rocks, which roll when the platform is tilted\n",
    "- `#` = cubic rocks, which do not move when the platform is tilted\n",
    "- `.` = empty space.\n",
    "\n",
    "Here are the first few rows of the array to illustrate:"
   ]
  },
  {
   "cell_type": "code",
   "execution_count": 4,
   "metadata": {},
   "outputs": [
    {
     "data": {
      "text/plain": [
       "['O...#.O.OOO.OO.O.OOO...........OO#..##...#...#.O.#.O....#.##..#.#.OOO.O....#....O...O..OOOO.O#......',\n",
       " 'O#OO....#O....O..#..###....#.#..#.......#..#.#....O...O.#..O.O#.....#.O#...O.O..##..OO.#...O.O#.....',\n",
       " '.O...#..#...##....##....O.OO#O....O.O..#O.....#O.O....#.#O#.#O......#O.....#.O..O.....O.....O...O##.',\n",
       " '..O...#OO..O....OO.....OOOO#O.OO..#.........O.O........O..#.........##...O.........O#..O.....#O.OO##',\n",
       " 'OO.O....#O#..O..#.OO....OO.#.OO...##.O..O..O....OO...O....#.....#..O#OO....#....O.....OO.#.O......OO']"
      ]
     },
     "execution_count": 4,
     "metadata": {},
     "output_type": "execute_result"
    }
   ],
   "source": [
    "input_14[:5]"
   ]
  },
  {
   "cell_type": "markdown",
   "metadata": {},
   "source": [
    "When the platform is tilted, the round rocks roll in the direction of the tilt, until they hit either a cubic rock or the edge of the array. The first task is to find the new arrangement after the platform has been tilted to the north (the top edge of the array).\n",
    "\n",
    "In anticipation of being asked later to tilt the platform in other directions too, let's consider an effective way of handling all the cardinal directions. It is possible to reduce tilts in all 4 cardinal directions into tilts in just one direction, by transforming the array before applying the tilt, and then transforming back. The most natural direction to start with is west-east (as this is the direction in which the row strings span), so pick east as the default direction - this is convenient, is when a string of `O` and `#` characters is sorted, the `O`s end up on the eastern side. Here is how tilts in other directions can be converted into tilts in the east direction:\n",
    "\n",
    "- __West__: flip the array in the east-west direction, apply the tilt to the east, and then flip back\n",
    "- __South__: transpose the array, apply the tilt to the east, and transpose back\n",
    "- __North__: flip the array in the north-south direction, transpose, apply the tilt to the east, transpose and flip back.\n",
    "\n",
    "The strategy for tilting in the east direction is simple - for each row string:\n",
    "- Split on the `#` characters\n",
    "- Sort each intermediate string, to push the `O`s to the eastern edge\n",
    "- Join back together with connecting `#` characters."
   ]
  },
  {
   "cell_type": "code",
   "execution_count": 5,
   "metadata": {},
   "outputs": [],
   "source": [
    "def roll_east(grid: list[str]) -> list[str]:\n",
    "    return [\n",
    "        '#'.join([''.join(sorted(round_rocks)) for round_rocks in row.split('#')]) \n",
    "        for row in grid\n",
    "    ]"
   ]
  },
  {
   "cell_type": "code",
   "execution_count": 6,
   "metadata": {},
   "outputs": [
    {
     "data": {
      "text/plain": [
       "['##....OOO#....O#']"
      ]
     },
     "execution_count": 6,
     "metadata": {},
     "output_type": "execute_result"
    }
   ],
   "source": [
    "roll_east(['##OO.O...#..O..#'])"
   ]
  },
  {
   "cell_type": "markdown",
   "metadata": {},
   "source": [
    "As described above, the general `roll_direction` function makes use of the `roll_east` function and the helper `transpose` function:"
   ]
  },
  {
   "cell_type": "code",
   "execution_count": 7,
   "metadata": {},
   "outputs": [],
   "source": [
    "def transpose(grid: list[str]) -> list[str]:\n",
    "    return list(map(lambda x: ''.join(x), zip(*grid)))\n",
    "\n",
    "def roll_direction(grid: list[str], direction: str) -> list[str]:\n",
    "    match direction.lower():\n",
    "        case 'n':\n",
    "            # Flip -> transpose -> tilt east -> transpose -> flip\n",
    "            flipped_grid = transpose(grid[::-1])\n",
    "            rolled_grid = roll_east(flipped_grid)\n",
    "            return transpose(rolled_grid)[::-1]\n",
    "        \n",
    "        case 'e':\n",
    "            return roll_east(grid)\n",
    "        \n",
    "        case 's':\n",
    "            # Transpose -> tilt east -> transpose\n",
    "            flipped_grid = transpose(grid)\n",
    "            rolled_grid = roll_east(flipped_grid)\n",
    "            return transpose(rolled_grid)\n",
    "        \n",
    "        case 'w':\n",
    "            # Flip -> tilt east -> flip\n",
    "            flipped_grid = [row[::-1] for row in grid]\n",
    "            rolled_grid = roll_east(flipped_grid)\n",
    "            return [row[::-1] for row in rolled_grid]\n",
    "        \n",
    "        case _:\n",
    "            raise ValueError('Direction not recognised!')\n",
    "    "
   ]
  },
  {
   "cell_type": "markdown",
   "metadata": {},
   "source": [
    "To test this, take advantage of the provided test grid:"
   ]
  },
  {
   "cell_type": "code",
   "execution_count": 8,
   "metadata": {},
   "outputs": [
    {
     "name": "stdout",
     "output_type": "stream",
     "text": [
      "    N                E                S                W\n",
      "OOOO.#.O..       ....O#....       .....#....       O....#....\n",
      "OO..#....#       .OOO#....#       ....#....#       OOO.#....#\n",
      "OO..O##..O       .....##...       ...O.##...       .....##...\n",
      "O..#.OO...       .OO#....OO       ...#......       OO.#OO....\n",
      "........#.       ......OO#.       O.O....O#O       OO......#.\n",
      "..#....#.#       .O#...O#.#       O.#..O.#.#       O.#O...#.#\n",
      "..O..#.O.O       ....O#..OO       O....#....       O....#OO..\n",
      "..O.......       .........O       OO....OO..       O.........\n",
      "#....###..       #....###..       #OO..###..       #....###..\n",
      "#....#....       #..OO#....       #OO.O#...O       #OO..#....\n"
     ]
    }
   ],
   "source": [
    "test_grid = [\n",
    "    'O....#....',\n",
    "    'O.OO#....#',\n",
    "    '.....##...',\n",
    "    'OO.#O....O',\n",
    "    '.O.....O#.',\n",
    "    'O.#..O.#.#',\n",
    "    '..O..#O..O',\n",
    "    '.......O..',\n",
    "    '#....###..',\n",
    "    '#OO..#....'\n",
    "]\n",
    "\n",
    "print(f'    N                E                S                W')\n",
    "for row_N, row_E, row_S, row_W in zip(roll_direction(test_grid, 'n'), \n",
    "                                      roll_direction(test_grid, 'e'),\n",
    "                                      roll_direction(test_grid, 's'),\n",
    "                                      roll_direction(test_grid, 'w')):\n",
    "    print(f'{row_N}       {row_E}       {row_S}       {row_W}')"
   ]
  },
  {
   "cell_type": "markdown",
   "metadata": {},
   "source": [
    "Looking good to me! To complete the first part of the puzzle, the load on the top edge of the grid should be computed - each round rock provides a contribution equal to the number of rows that lie further to the south than it (including the row it is on):"
   ]
  },
  {
   "cell_type": "code",
   "execution_count": 9,
   "metadata": {},
   "outputs": [],
   "source": [
    "def compute_load(grid: list[str]) -> int:\n",
    "    n_rows = len(grid)\n",
    "    \n",
    "    load = 0    \n",
    "    for i, row in enumerate(grid):\n",
    "        # Number of rocks in row\n",
    "        n_rocks = sum([char == 'O' for char in row])\n",
    "        \n",
    "        # Load contribution from row\n",
    "        load += n_rocks*(n_rows - i)\n",
    "        \n",
    "    return load"
   ]
  },
  {
   "cell_type": "markdown",
   "metadata": {},
   "source": [
    "The test grid provides one further check of the load logic:"
   ]
  },
  {
   "cell_type": "code",
   "execution_count": 10,
   "metadata": {},
   "outputs": [
    {
     "name": "stdout",
     "output_type": "stream",
     "text": [
      "Success!\n"
     ]
    }
   ],
   "source": [
    "assert compute_load(roll_direction(test_grid, 'n')) == 136\n",
    "print('Success!')"
   ]
  },
  {
   "cell_type": "markdown",
   "metadata": {},
   "source": [
    "Applying this to the full input array gives the total load:"
   ]
  },
  {
   "cell_type": "code",
   "execution_count": 11,
   "metadata": {},
   "outputs": [
    {
     "data": {
      "text/plain": [
       "109596"
      ]
     },
     "execution_count": 11,
     "metadata": {},
     "output_type": "execute_result"
    }
   ],
   "source": [
    "compute_load(roll_direction(input_14, 'n'))"
   ]
  },
  {
   "cell_type": "markdown",
   "metadata": {},
   "source": [
    "So the answer to part 1 is: __109596__."
   ]
  },
  {
   "cell_type": "markdown",
   "metadata": {},
   "source": [
    "## Part 2"
   ]
  },
  {
   "cell_type": "markdown",
   "metadata": {},
   "source": [
    "As anticipated, in the second part we are asked to consider a more complex operation on the grid called a _spin cycle_ - this consists of all four tilts in sequence, in the order (N, W, S, E). "
   ]
  },
  {
   "cell_type": "code",
   "execution_count": 12,
   "metadata": {},
   "outputs": [],
   "source": [
    "def spin_cycle(grid: list[str]) -> list[str]:\n",
    "    grid = roll_direction(grid, 'n')\n",
    "    grid = roll_direction(grid, 'w')\n",
    "    grid = roll_direction(grid, 's')\n",
    "    grid = roll_direction(grid, 'e')\n",
    "    \n",
    "    return grid"
   ]
  },
  {
   "cell_type": "markdown",
   "metadata": {},
   "source": [
    "The puzzle asks us to consider applying the `spin_cycle` operation $N=1000000000$ times; the `timeit` test below estimates that it takes (using my unoptimised code) about 87 µs to perform a spin cycle. Therefore, this many operations would take 87,000 seconds, or more than a whole day - clearly, there is a smarter way to find the $N$th iteration of the grid."
   ]
  },
  {
   "cell_type": "code",
   "execution_count": 13,
   "metadata": {},
   "outputs": [
    {
     "name": "stdout",
     "output_type": "stream",
     "text": [
      "85.7 µs ± 2.68 µs per loop (mean ± std. dev. of 7 runs, 10,000 loops each)\n"
     ]
    }
   ],
   "source": [
    "%timeit spin_cycle(test_grid)"
   ]
  },
  {
   "cell_type": "markdown",
   "metadata": {},
   "source": [
    "Intuitively, it makes sense that after a certain number of applications of `spin_cycle` (certainly less than $N=1000000000$), the round rocks will return to a state already previously seen. After all, there are only so many ways in which the rocks can be arranged among the fixed rocks, particularly considering each tilt operation pushes the round rocks as far as possible towards each edge. As the result of each spin cycle is completely determined by the starting grid, once a previously visited arrangement is found, the spin cycles will loop around the subsequent states with a certain cycle length.\n",
    "\n",
    "Making the assumption that this point will be found by considerably fewer iterations, the strategy becomes:\n",
    "- Apply `spin_cycle` to the grid, and make a note of the state the the grid ends up in (as well as the position in the chain)\n",
    "- Repeat until a previously visited grid state is seen\n",
    "- Compute the cycle length, and the number of states before the hitting first state in the cycle.\n",
    "\n",
    "This is reminiscent of the puzzle from [day 8](_posts/2023-12-08-aoc23-day8.md), and we can create a similar diagram to visualise what is going on:"
   ]
  },
  {
   "cell_type": "markdown",
   "metadata": {},
   "source": [
    "| ![Chain behaviour, starting at the initial grid](aoc23_day14_chain.png) |\n",
    "|:--:|\n",
    "| It takes $n$ steps to reach the first grid state in the cycle, and the cycle is of length $c$. |"
   ]
  },
  {
   "cell_type": "markdown",
   "metadata": {},
   "source": [
    "Once the numbers $n$ and $c$ are found, consider expressing the total number of iterations $N$ as:\n",
    "\n",
    "$$\n",
    "N = n + kc + r\n",
    "$$\n",
    "\n",
    "where $k\\in\\mathbb{N}$ and $r<c$. As the state is unchanged after going around the loop an integer number of times, the final state is the same as the state found after iterating a smaller number of times:\n",
    "\n",
    "$$\n",
    "\\hat{N} = n + r.\n",
    "$$"
   ]
  },
  {
   "cell_type": "markdown",
   "metadata": {},
   "source": [
    "Now, implementing this to find the final grid state:"
   ]
  },
  {
   "cell_type": "code",
   "execution_count": 14,
   "metadata": {},
   "outputs": [],
   "source": [
    "def spin_cycle_n_times(input_grid: list[str], N: int) -> list[str]:\n",
    "    # Initialise to keep track of found grids\n",
    "    grid = input_grid\n",
    "    found_grids = {''.join(grid): 0}\n",
    "    \n",
    "    # Loop up to N (max possible value needed)\n",
    "    for i in range(N):\n",
    "        grid = spin_cycle(grid)\n",
    "        grid_str = ''.join(grid) # hashable\n",
    "        \n",
    "        if grid_str in found_grids:\n",
    "            # Already found grid - compute n and c\n",
    "            # and stop iterating\n",
    "            n_plus_c = i+1\n",
    "            n = found_grids[grid_str]\n",
    "            c = n_plus_c - n\n",
    "            break\n",
    "        \n",
    "        else:\n",
    "            # Add new grid to dictionary\n",
    "            found_grids[grid_str] = i + 1\n",
    "    else:\n",
    "        # return final grid, if no previously \n",
    "        # found grid observed\n",
    "        return grid\n",
    "    \n",
    "    # remainder and new N\n",
    "    print(f'n = {n}, c = {c}')\n",
    "    r = (N - n) % c\n",
    "    N_hat = n + r\n",
    "    \n",
    "    # Invert grid\n",
    "    final_grid = [k for k, v in found_grids.items() if v == N_hat][0]\n",
    "\n",
    "    # Convert grid_str back into grid\n",
    "    m, n = len(input_grid), len(input_grid[0])\n",
    "    return [final_grid[n*i:n*(i+1)] for i in range(m)]"
   ]
  },
  {
   "cell_type": "markdown",
   "metadata": {},
   "source": [
    "Helpfully, the puzzle provides the value of the the load when the test grid is spin cycled $N$ times as a test of this function:"
   ]
  },
  {
   "cell_type": "code",
   "execution_count": 15,
   "metadata": {},
   "outputs": [
    {
     "name": "stdout",
     "output_type": "stream",
     "text": [
      "n = 3, c = 7\n"
     ]
    },
    {
     "data": {
      "text/plain": [
       "64"
      ]
     },
     "execution_count": 15,
     "metadata": {},
     "output_type": "execute_result"
    }
   ],
   "source": [
    "N = 1_000_000_000\n",
    "compute_load(spin_cycle_n_times(test_grid, N))"
   ]
  },
  {
   "cell_type": "markdown",
   "metadata": {},
   "source": [
    "Also, we see that only 10 versions of the original/spin-cycled grid were needed in order to find all possible future spin-cycled versions. Repeating this for the full input array:"
   ]
  },
  {
   "cell_type": "code",
   "execution_count": 16,
   "metadata": {},
   "outputs": [
    {
     "name": "stdout",
     "output_type": "stream",
     "text": [
      "n = 96, c = 11\n"
     ]
    },
    {
     "data": {
      "text/plain": [
       "96105"
      ]
     },
     "execution_count": 16,
     "metadata": {},
     "output_type": "execute_result"
    }
   ],
   "source": [
    "compute_load(spin_cycle_n_times(input_14, N))"
   ]
  },
  {
   "cell_type": "markdown",
   "metadata": {},
   "source": [
    "Similarly, only 107 versions of the grid were necessary here to find all possible future spin-cycled versions - a significant reduction."
   ]
  },
  {
   "cell_type": "markdown",
   "metadata": {},
   "source": [
    "So the answer to part 2 is: __96105__."
   ]
  }
 ],
 "metadata": {
  "kernelspec": {
   "display_name": "aoc23",
   "language": "python",
   "name": "aoc23"
  },
  "language_info": {
   "codemirror_mode": {
    "name": "ipython",
    "version": 3
   },
   "file_extension": ".py",
   "mimetype": "text/x-python",
   "name": "python",
   "nbconvert_exporter": "python",
   "pygments_lexer": "ipython3",
   "version": "3.12.0"
  }
 },
 "nbformat": 4,
 "nbformat_minor": 4
}
