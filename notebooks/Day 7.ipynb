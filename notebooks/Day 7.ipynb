{
 "cells": [
  {
   "cell_type": "code",
   "execution_count": 1,
   "metadata": {},
   "outputs": [],
   "source": [
    "# Add module to path\n",
    "import os\n",
    "import sys\n",
    "module_path = os.path.abspath(os.path.join('..'))\n",
    "if module_path not in sys.path:\n",
    "    sys.path.append(module_path)"
   ]
  },
  {
   "cell_type": "code",
   "execution_count": 2,
   "metadata": {},
   "outputs": [],
   "source": [
    "# Imports\n",
    "from aoc23.utils import read_input\n",
    "from dataclasses import dataclass\n",
    "from functools import total_ordering\n",
    "from collections import defaultdict"
   ]
  },
  {
   "cell_type": "markdown",
   "metadata": {},
   "source": [
    "## Part 1"
   ]
  },
  {
   "cell_type": "markdown",
   "metadata": {},
   "source": [
    "In part 1 of [this puzzle](https://adventofcode.com/2023/day/7), we are asked to sort a collection of poker hands into rank order. The rank order is slightly different to the usual one, in that it compares the hand type (4 of a kind, full house etc.) as usual, but when the hand type matches, we choose the hand with the best first card (or best subsequent card if this also matches, and so on). First, it would be useful to have a record of the card ranking, and the different hand types, so we can compare them directly later:"
   ]
  },
  {
   "cell_type": "code",
   "execution_count": 3,
   "metadata": {},
   "outputs": [],
   "source": [
    "CARDS = {\n",
    "    'A': 14,\n",
    "    'K': 13,\n",
    "    'Q': 12,\n",
    "    'J': 11,\n",
    "    'T': 10,\n",
    "    '9': 9,\n",
    "    '8': 8,\n",
    "    '7': 7,\n",
    "    '6': 6,\n",
    "    '5': 5,\n",
    "    '4': 4,\n",
    "    '3': 3,\n",
    "    '2': 2,\n",
    "    '-': 1\n",
    "}"
   ]
  },
  {
   "cell_type": "code",
   "execution_count": 4,
   "metadata": {},
   "outputs": [],
   "source": [
    "HAND_TYPES = {\n",
    "    '5K': 7,\n",
    "    '4K': 6,\n",
    "    'FH': 5,\n",
    "    '3K': 4,\n",
    "    '2P': 3,\n",
    "    '1P': 2,\n",
    "    'HC': 1\n",
    "}"
   ]
  },
  {
   "cell_type": "markdown",
   "metadata": {},
   "source": [
    "Let's create a class that can represent a specific card. Note that we can compare the cards directly using the operators `==`, `<`, and so on, and so can also sort a list of `Card` objects:"
   ]
  },
  {
   "cell_type": "code",
   "execution_count": 5,
   "metadata": {},
   "outputs": [],
   "source": [
    "@dataclass(frozen=True)\n",
    "@total_ordering\n",
    "class Card:\n",
    "    label: str\n",
    "        \n",
    "    def __post_init__(self):\n",
    "        assert self.label in CARDS.keys()\n",
    "        \n",
    "    def __lt__(self, other):\n",
    "        return CARDS[self.label] < CARDS[other.label]\n",
    "    \n",
    "    def __repr__(self):\n",
    "        return self.label"
   ]
  },
  {
   "cell_type": "code",
   "execution_count": 6,
   "metadata": {},
   "outputs": [],
   "source": [
    "card_1 = Card('A')\n",
    "card_2 = Card('K')\n",
    "card_3 = Card('5')\n",
    "card_4 = Card('K')"
   ]
  },
  {
   "cell_type": "code",
   "execution_count": 7,
   "metadata": {},
   "outputs": [
    {
     "data": {
      "text/plain": [
       "[5, K, K, A]"
      ]
     },
     "execution_count": 7,
     "metadata": {},
     "output_type": "execute_result"
    }
   ],
   "source": [
    "sorted([card_1, card_2, card_3, card_4])"
   ]
  },
  {
   "cell_type": "markdown",
   "metadata": {},
   "source": [
    "Now, for the hand: it will be initialised with the hand string from the input, then split into a list of `Card` objects in the `__post_init__` method. To determine the hand type, count the number of occurances of each card type, and convert the counts into the corresponding hand type. Also, by implementing the `__eq__` and `__lt__` methods, we can compare hands with each other directly, and sort lists of hands too:"
   ]
  },
  {
   "cell_type": "code",
   "execution_count": 8,
   "metadata": {},
   "outputs": [],
   "source": [
    "@total_ordering\n",
    "@dataclass(frozen=True)\n",
    "class Hand:\n",
    "    hand_str: str\n",
    "    joker_label: str = '-'\n",
    "        \n",
    "    def __post_init__(self):\n",
    "        assert len(self.hand_str) == 5\n",
    "        for c in self.hand_str:\n",
    "            assert c in CARDS, 'element of hand_str must be in CARDS!'\n",
    "        object.__setattr__(self, 'cards', [Card(i) for i in self.hand_str])\n",
    "        object.__setattr__(self, 'joker', Card(self.joker_label))\n",
    "\n",
    "    @property\n",
    "    def hand_type(self):\n",
    "        card_count = defaultdict(int)\n",
    "        num_joker = 0\n",
    "        \n",
    "        for card in self.cards:\n",
    "            if card == self.joker:\n",
    "                num_joker += 1\n",
    "            else:\n",
    "                card_count[card] += 1\n",
    "\n",
    "        sorted_counts = sorted(card_count.values())\n",
    "        if len(sorted_counts) == 0:\n",
    "            return '5K'\n",
    "        \n",
    "        sorted_counts[-1] += num_joker\n",
    "        \n",
    "        match sorted_counts:\n",
    "            case [5]:\n",
    "                return '5K'\n",
    "            case [1, 4]:\n",
    "                return '4K'\n",
    "            case [2, 3]:\n",
    "                return 'FH'\n",
    "            case [1, 1, 3]:\n",
    "                return '3K'\n",
    "            case [1, 2, 2]:\n",
    "                return '2P'\n",
    "            case [1, 1, 1, 2]:\n",
    "                return '1P'\n",
    "            case [1, 1, 1, 1, 1]:\n",
    "                return 'HC'\n",
    "\n",
    "    def __lt__(self, other):\n",
    "        if self.hand_type != other.hand_type:\n",
    "            return HAND_TYPES[self.hand_type] < HAND_TYPES[other.hand_type]\n",
    "        else:\n",
    "            for card_1, card_2 in zip(self.cards, other.cards):\n",
    "                match (card_1 == self.joker, card_2 == other.joker):\n",
    "                    case (True, False):\n",
    "                        return True\n",
    "                    case (False, True):\n",
    "                        return False\n",
    "                    case (False, False):\n",
    "                        if card_1 < card_2:\n",
    "                            return True\n",
    "                        elif card_1 > card_2:\n",
    "                            return False\n",
    "            return False\n",
    "        \n",
    "    def __eq__(self, other):\n",
    "        for card_1, card_2 in zip(self.cards, other.cards):\n",
    "            if card_1 == self.joker and card_2 == other.joker:\n",
    "                continue\n",
    "            elif card_1 != card_2:\n",
    "                return False\n",
    "            \n",
    "        return True"
   ]
  },
  {
   "cell_type": "markdown",
   "metadata": {},
   "source": [
    "(Note: the implementation of part 2 is also included here, but doesn't affect the logic for part 1). Here are some checks to see if `Hand` is working as expected:"
   ]
  },
  {
   "cell_type": "code",
   "execution_count": 9,
   "metadata": {},
   "outputs": [],
   "source": [
    "assert Hand('22222') < Hand('33333')\n",
    "assert Hand('22333') < Hand('22444')\n",
    "assert Hand('23456') == Hand('23456')\n",
    "assert Hand('42333') < Hand('23333')\n",
    "assert Hand('J2233', 'J') < Hand('2233J', 'J')\n",
    "assert Hand('J2233', 'J') < Hand('22333', 'J')\n",
    "assert Hand('J2233', 'J') < Hand('22339', '9')\n",
    "assert Hand('J2233', 'J') == Hand('92233', '9')"
   ]
  },
  {
   "cell_type": "markdown",
   "metadata": {},
   "source": [
    "To compute the answer for part 1, simply create a list of hands from the input file:"
   ]
  },
  {
   "cell_type": "code",
   "execution_count": 10,
   "metadata": {},
   "outputs": [],
   "source": [
    "games = [line.split() for line in read_input(7)]\n",
    "hands = [(Hand(hand, '-'), int(bid)) for hand, bid in games]"
   ]
  },
  {
   "cell_type": "markdown",
   "metadata": {},
   "source": [
    "Then sort this list (using the first entry of the `(hand, bid)` tuple):"
   ]
  },
  {
   "cell_type": "code",
   "execution_count": 11,
   "metadata": {},
   "outputs": [],
   "source": [
    "sorted_hands = sorted(hands, key=lambda x: x[0])"
   ]
  },
  {
   "cell_type": "code",
   "execution_count": 12,
   "metadata": {},
   "outputs": [
    {
     "data": {
      "text/plain": [
       "([(Hand(hand_str='23857', joker_label='-'), 982),\n",
       "  (Hand(hand_str='23A49', joker_label='-'), 485),\n",
       "  (Hand(hand_str='23AK6', joker_label='-'), 59),\n",
       "  (Hand(hand_str='246T8', joker_label='-'), 674),\n",
       "  (Hand(hand_str='25K9A', joker_label='-'), 336)],\n",
       " [(Hand(hand_str='AA8AA', joker_label='-'), 895),\n",
       "  (Hand(hand_str='AA9AA', joker_label='-'), 823),\n",
       "  (Hand(hand_str='AAA6A', joker_label='-'), 181),\n",
       "  (Hand(hand_str='AAAA5', joker_label='-'), 764),\n",
       "  (Hand(hand_str='JJJJJ', joker_label='-'), 512)])"
      ]
     },
     "execution_count": 12,
     "metadata": {},
     "output_type": "execute_result"
    }
   ],
   "source": [
    "sorted_hands[:5], sorted_hands[-5:]"
   ]
  },
  {
   "cell_type": "markdown",
   "metadata": {},
   "source": [
    "Looking good to me! The final answer is the sum of the rank multiplied by the bid for each hand:"
   ]
  },
  {
   "cell_type": "code",
   "execution_count": 13,
   "metadata": {},
   "outputs": [
    {
     "data": {
      "text/plain": [
       "247961593"
      ]
     },
     "execution_count": 13,
     "metadata": {},
     "output_type": "execute_result"
    }
   ],
   "source": [
    "sum([(i+1)*sorted_hands[i][1] for i in range(len(sorted_hands))])"
   ]
  },
  {
   "cell_type": "markdown",
   "metadata": {},
   "source": [
    "So part 1 answer is: __247961593__."
   ]
  },
  {
   "cell_type": "markdown",
   "metadata": {},
   "source": [
    "## Part 2"
   ]
  },
  {
   "cell_type": "markdown",
   "metadata": {},
   "source": [
    "In the second part, jokers are introduced - in this case, 'J' cards are treated as jokers. Joker cards can be replaced with whichever card causes the hand to have the most valuable hand type - for example, the hand 'J5544' has the hand type 'FH', as the 'J' is converted into a '5'.\n",
    "\n",
    "In the code above, jokers have been implemented in a backwards compatible way, by introducing a default joker card of '-', with value 1 (less than all other cards), and which does not occur in any actual hand. During the hand type computation, the count of jokers is added to the largest non-joker count; also, additional logic is required in the dunder methods to handle comparisons when the hand type is matching. The advantage of this method is that we can now specify any card (not just 'J') to act as a joker card!"
   ]
  },
  {
   "cell_type": "markdown",
   "metadata": {},
   "source": [
    "Now, the same analysis can be repeated using 'J' cards as jokers:"
   ]
  },
  {
   "cell_type": "code",
   "execution_count": 14,
   "metadata": {},
   "outputs": [],
   "source": [
    "hands = [(Hand(hand, 'J'), int(bid)) for hand, bid in games]"
   ]
  },
  {
   "cell_type": "code",
   "execution_count": 15,
   "metadata": {},
   "outputs": [
    {
     "data": {
      "text/plain": [
       "([(Hand(hand_str='23857', joker_label='J'), 982),\n",
       "  (Hand(hand_str='23A49', joker_label='J'), 485),\n",
       "  (Hand(hand_str='23AK6', joker_label='J'), 59),\n",
       "  (Hand(hand_str='246T8', joker_label='J'), 674),\n",
       "  (Hand(hand_str='25K9A', joker_label='J'), 336)],\n",
       " [(Hand(hand_str='TTTTJ', joker_label='J'), 944),\n",
       "  (Hand(hand_str='QQJQQ', joker_label='J'), 342),\n",
       "  (Hand(hand_str='KJKJK', joker_label='J'), 939),\n",
       "  (Hand(hand_str='KKJKK', joker_label='J'), 497),\n",
       "  (Hand(hand_str='AJAJA', joker_label='J'), 99)])"
      ]
     },
     "execution_count": 15,
     "metadata": {},
     "output_type": "execute_result"
    }
   ],
   "source": [
    "sorted_hands = sorted(hands, key=lambda x: x[0])\n",
    "sorted_hands[:5], sorted_hands[-5:]"
   ]
  },
  {
   "cell_type": "markdown",
   "metadata": {},
   "source": [
    "As expected, the 'AJAJA' hand is now the best, being treated as 5 of a kind aces. All that is left is to recompute the final answer:"
   ]
  },
  {
   "cell_type": "code",
   "execution_count": 16,
   "metadata": {},
   "outputs": [
    {
     "data": {
      "text/plain": [
       "248750699"
      ]
     },
     "execution_count": 16,
     "metadata": {},
     "output_type": "execute_result"
    }
   ],
   "source": [
    "sum([(i+1)*sorted_hands[i][1] for i in range(len(sorted_hands))])"
   ]
  },
  {
   "cell_type": "markdown",
   "metadata": {},
   "source": [
    "So part  2 answer is: __248750699__."
   ]
  }
 ],
 "metadata": {
  "kernelspec": {
   "display_name": "aoc23",
   "language": "python",
   "name": "aoc23"
  },
  "language_info": {
   "codemirror_mode": {
    "name": "ipython",
    "version": 3
   },
   "file_extension": ".py",
   "mimetype": "text/x-python",
   "name": "python",
   "nbconvert_exporter": "python",
   "pygments_lexer": "ipython3",
   "version": "3.12.0"
  }
 },
 "nbformat": 4,
 "nbformat_minor": 4
}
