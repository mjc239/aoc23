{
 "cells": [
  {
   "cell_type": "code",
   "execution_count": 1,
   "metadata": {},
   "outputs": [],
   "source": [
    "# Add module to path\n",
    "import os\n",
    "import sys\n",
    "module_path = os.path.abspath(os.path.join('..'))\n",
    "if module_path not in sys.path:\n",
    "    sys.path.append(module_path)"
   ]
  },
  {
   "cell_type": "code",
   "execution_count": 2,
   "metadata": {},
   "outputs": [],
   "source": [
    "# Imports\n",
    "from aoc23.utils import read_input"
   ]
  },
  {
   "cell_type": "code",
   "execution_count": 3,
   "metadata": {},
   "outputs": [],
   "source": [
    "input_1 = read_input(1)"
   ]
  },
  {
   "cell_type": "code",
   "execution_count": 4,
   "metadata": {},
   "outputs": [
    {
     "data": {
      "text/plain": [
       "1000"
      ]
     },
     "execution_count": 4,
     "metadata": {},
     "output_type": "execute_result"
    }
   ],
   "source": [
    "len(input_1)"
   ]
  },
  {
   "cell_type": "markdown",
   "metadata": {},
   "source": [
    "## Part 1"
   ]
  },
  {
   "cell_type": "markdown",
   "metadata": {},
   "source": [
    "In the first part of this puzzle, we are given a collection of words containing lower case letters of the alphabet and digits. Each word is guaranteed to have at least one digit. For each word, we must find the first and last digits (which may be the same character), and form a two digit number from them; the final answer is the sum of these numbers."
   ]
  },
  {
   "cell_type": "markdown",
   "metadata": {},
   "source": [
    "### Method 1 - use strip()"
   ]
  },
  {
   "cell_type": "markdown",
   "metadata": {},
   "source": [
    "We can use the `strip` method of the native string class in Python to remove leading and trailing characters belonging to a certain set. Using the set containing all the lower case letters, this allows us to read the first and last characters of the remaining string. Note that the resulting string may only have one character, in which case the resulting number repeats the same digit:"
   ]
  },
  {
   "cell_type": "code",
   "execution_count": 5,
   "metadata": {},
   "outputs": [
    {
     "data": {
      "text/plain": [
       "54561"
      ]
     },
     "execution_count": 5,
     "metadata": {},
     "output_type": "execute_result"
    }
   ],
   "source": [
    "sum_1 = 0\n",
    "for word in input_1:\n",
    "    stripped_word = word.strip('abcdefghijklmnopqrstuvwxyz')\n",
    "    word_int = \"\".join([stripped_word[0], stripped_word[-1]])\n",
    "    sum_1 += int(word_int)\n",
    "sum_1"
   ]
  },
  {
   "cell_type": "markdown",
   "metadata": {},
   "source": [
    "### Method 2 - loop over the word"
   ]
  },
  {
   "cell_type": "markdown",
   "metadata": {},
   "source": [
    "One problem with the previous method is that it creates a copy of the original word once the leading and trailing letters have been stripped off - this isn't ideal if the word is very long. Instead, we can create some helper functions which allow us to loop over the input string directly, either from the start or the end of the word:"
   ]
  },
  {
   "cell_type": "code",
   "execution_count": 6,
   "metadata": {},
   "outputs": [],
   "source": [
    "def first_digit_in_word(word):\n",
    "    for c in word:\n",
    "        if c.isdigit():\n",
    "            return c\n",
    "        \n",
    "def last_digit_in_word(word):\n",
    "    for i in range(len(word)):\n",
    "        c = word[-i-1]\n",
    "        if c.isdigit():\n",
    "            return c"
   ]
  },
  {
   "cell_type": "markdown",
   "metadata": {},
   "source": [
    "This allows us to find the relevant digits, while referencing the original string and without creating any copies:"
   ]
  },
  {
   "cell_type": "code",
   "execution_count": 7,
   "metadata": {},
   "outputs": [
    {
     "data": {
      "text/plain": [
       "54561"
      ]
     },
     "execution_count": 7,
     "metadata": {},
     "output_type": "execute_result"
    }
   ],
   "source": [
    "sum([\n",
    "    int(\"\".join([first_digit_in_word(word), \n",
    "                 last_digit_in_word(word)])) \n",
    "    for word in input_1\n",
    "])"
   ]
  },
  {
   "cell_type": "markdown",
   "metadata": {},
   "source": [
    "And so the answer to Part 1 is: __54561__."
   ]
  },
  {
   "cell_type": "markdown",
   "metadata": {},
   "source": [
    "## Part 2"
   ]
  },
  {
   "cell_type": "markdown",
   "metadata": {},
   "source": [
    "In the second part of this puzzle, we need to not only look for digits, but also for spelled out numbers (e.g. 'one', 'two', 'three' etc.) at the start and end of the words. To help with this, let's define a dict mapping each number string to the corresponding integer:"
   ]
  },
  {
   "cell_type": "code",
   "execution_count": 8,
   "metadata": {},
   "outputs": [],
   "source": [
    "NUMBERS = {'one': 1,\n",
    "           'two': 2,\n",
    "           'three': 3,\n",
    "           'four': 4,\n",
    "           'five': 5,\n",
    "           'six': 6,\n",
    "           'seven': 7,\n",
    "           'eight': 8,\n",
    "           'nine': 9}"
   ]
  },
  {
   "cell_type": "markdown",
   "metadata": {},
   "source": [
    "The strategy here is to work our way in from each end of the word, checking at each step:\n",
    "- If the current character is a digit - in which case we are done\n",
    "- If the substring leading up to this point ends in one of the spelled out numbers\n",
    "\n",
    "Modifying the previous functions is pretty straightforward: "
   ]
  },
  {
   "cell_type": "code",
   "execution_count": 9,
   "metadata": {},
   "outputs": [],
   "source": [
    "def first_number_in_word(word):\n",
    "    for i in range(len(word)):\n",
    "        # If next character is a digit, return it\n",
    "        if word[i].isdigit():\n",
    "            return int(word[i])\n",
    "        else:\n",
    "            # Check for number words ending here\n",
    "            # All numbers have 3, 4, or 5 characters\n",
    "            for j in [5, 4, 3]:\n",
    "                # Find subword ending with this character\n",
    "                start = max(0, i-j+1)\n",
    "                subword = word[start:i+1]\n",
    "                \n",
    "                if subword in NUMBERS:\n",
    "                    return NUMBERS[subword]\n",
    "                \n",
    "    raise(ValueError('No number found in word!'))"
   ]
  },
  {
   "cell_type": "code",
   "execution_count": 10,
   "metadata": {},
   "outputs": [],
   "source": [
    "def last_number_in_word(word):\n",
    "    for i in range(len(word)):\n",
    "        pos = -i-1\n",
    "        # If next character is a digit, return it\n",
    "        if word[pos].isdigit():\n",
    "            return int(word[pos])\n",
    "        else:\n",
    "            # Check for number words starting here\n",
    "            # All numbers have 3, 4, or 5 characters\n",
    "            for j in [5, 4, 3]:\n",
    "                # Find subword starting with this character\n",
    "                end = pos+j if pos+j < 0 else None\n",
    "                subword = word[pos:end]\n",
    "                \n",
    "                if subword in NUMBERS:\n",
    "                    return NUMBERS[subword]\n",
    "                \n",
    "    raise(ValueError('No number found in word!'))"
   ]
  },
  {
   "cell_type": "markdown",
   "metadata": {},
   "source": [
    "Testing these functions on the first few words from the provided dataset, we can see that they give the desired results:"
   ]
  },
  {
   "cell_type": "code",
   "execution_count": 11,
   "metadata": {},
   "outputs": [
    {
     "name": "stdout",
     "output_type": "stream",
     "text": [
      "6, 7 --- sixsrvldfour4seven\n",
      "5, 8 --- 53hvhgchljnlxqjsgrhxgf1zfoureightmlhvvv\n",
      "5, 2 --- fives2dznl\n",
      "2, 3 --- twocrqvjsix5threethree\n",
      "2, 9 --- gtjtwonefourone6fouronefccmnpbpeightnine\n",
      "7, 1 --- seventdtrcseveneightsevencgjgjxfpmfsix8twones\n",
      "4, 3 --- fourthreeseven1grvhrjxklh3ninetwothree\n",
      "4, 8 --- fourninethrnnth8\n",
      "2, 5 --- two2hnxcfivejrdjxtb\n",
      "8, 5 --- bssbrgcx86vsmqstrxsjbjeightqzhbzxqg5\n"
     ]
    }
   ],
   "source": [
    "for word in input_1[:10]:\n",
    "    print(f'{first_number_in_word(word)}, {last_number_in_word(word)} --- {word}')"
   ]
  },
  {
   "cell_type": "markdown",
   "metadata": {},
   "source": [
    "All that remains to do is to form the two-digit numbers for each of the input words and sum:"
   ]
  },
  {
   "cell_type": "code",
   "execution_count": 12,
   "metadata": {},
   "outputs": [
    {
     "data": {
      "text/plain": [
       "54076"
      ]
     },
     "execution_count": 12,
     "metadata": {},
     "output_type": "execute_result"
    }
   ],
   "source": [
    "sum([\n",
    "    10*first_number_in_word(word) + last_number_in_word(word) \n",
    "    for word in input_1\n",
    "])"
   ]
  },
  {
   "cell_type": "markdown",
   "metadata": {},
   "source": [
    "And so the answer to Part 2 is: __54076__."
   ]
  },
  {
   "cell_type": "markdown",
   "metadata": {},
   "source": [
    "There is a further optimization that could be done on these functions - in particular, at each step, we can keep track of a set of candidate numbers which are currently still possible, and ignore the others. For example, if the word begins in the letters `xxxxx`, we know that they can't be part of any number string; therefore, at each of these steps, we won't need to look back at all. Furthermore, if the next character is a `t`, we know that these can only be part of the numbers `two` or `three`, and so there is no need to check membership of the full number set.\n",
    "\n",
    "However, as the total time taken to do all 1000 words is just over 15ms, it seems a bit pointless at this stage. If it becomes clear that these functions will be needed later, and become the bottleneck for a time-consuming process, I can look at implementing these improvements."
   ]
  },
  {
   "cell_type": "code",
   "execution_count": 13,
   "metadata": {},
   "outputs": [
    {
     "name": "stdout",
     "output_type": "stream",
     "text": [
      "CPU times: total: 0 ns\n",
      "Wall time: 13.1 ms\n"
     ]
    },
    {
     "data": {
      "text/plain": [
       "54076"
      ]
     },
     "execution_count": 13,
     "metadata": {},
     "output_type": "execute_result"
    }
   ],
   "source": [
    "%time sum([10*first_number_in_word(word) + last_number_in_word(word) for word in input_1])"
   ]
  },
  {
   "cell_type": "markdown",
   "metadata": {},
   "source": [
    "Day 1 complete - a gentle introduction, with the difficulty set to increase from here!"
   ]
  },
  {
   "cell_type": "markdown",
   "metadata": {},
   "source": [
    "### Unit tests"
   ]
  },
  {
   "cell_type": "code",
   "execution_count": 14,
   "metadata": {},
   "outputs": [],
   "source": [
    "test_words = [\n",
    "    'two1nine',\n",
    "    'eightwothree',\n",
    "    'abcone2threexyz',\n",
    "    'xtwone3four',\n",
    "    '4nineeightseven2',\n",
    "    'zoneight234',\n",
    "    '7pqrstsixteen',\n",
    "]\n",
    "\n",
    "test_answers = [29, 83, 13, 24, 42, 14, 76]"
   ]
  },
  {
   "cell_type": "code",
   "execution_count": 15,
   "metadata": {},
   "outputs": [],
   "source": [
    "for word, answer in zip(test_words, test_answers):\n",
    "    assert 10*first_number_in_word(word) + last_number_in_word(word) == answer, word"
   ]
  }
 ],
 "metadata": {
  "kernelspec": {
   "display_name": "aoc23",
   "language": "python",
   "name": "aoc23"
  },
  "language_info": {
   "codemirror_mode": {
    "name": "ipython",
    "version": 3
   },
   "file_extension": ".py",
   "mimetype": "text/x-python",
   "name": "python",
   "nbconvert_exporter": "python",
   "pygments_lexer": "ipython3",
   "version": "3.12.0"
  }
 },
 "nbformat": 4,
 "nbformat_minor": 4
}
