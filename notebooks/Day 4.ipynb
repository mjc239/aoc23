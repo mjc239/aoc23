{
 "cells": [
  {
   "cell_type": "code",
   "execution_count": 1,
   "metadata": {},
   "outputs": [],
   "source": [
    "# Add module to path\n",
    "import os\n",
    "import sys\n",
    "module_path = os.path.abspath(os.path.join('..'))\n",
    "if module_path not in sys.path:\n",
    "    sys.path.append(module_path)"
   ]
  },
  {
   "cell_type": "code",
   "execution_count": 2,
   "metadata": {},
   "outputs": [],
   "source": [
    "# Imports\n",
    "from aoc23.utils import read_input\n",
    "import math"
   ]
  },
  {
   "cell_type": "code",
   "execution_count": 3,
   "metadata": {},
   "outputs": [],
   "source": [
    "input_4 = read_input(4)"
   ]
  },
  {
   "cell_type": "code",
   "execution_count": 4,
   "metadata": {},
   "outputs": [],
   "source": [
    "n_cards = len(input_4)"
   ]
  },
  {
   "cell_type": "markdown",
   "metadata": {},
   "source": [
    "## Part 1"
   ]
  },
  {
   "cell_type": "markdown",
   "metadata": {},
   "source": [
    "In the first part of this puzzle, we are given a collection of scratchcards, with each card consisting of two sets of numbers: the first set (before the `|`) are the winning numbers, and the second set are the numbers on the scratchcard. We are tasked first with determining how many numbers from te scratchard are winning numbers, and computing the associated point score for the card. Here is an example of one of the lines from the input:"
   ]
  },
  {
   "cell_type": "code",
   "execution_count": 5,
   "metadata": {},
   "outputs": [
    {
     "data": {
      "text/plain": [
       "'Card   1:  8 86 59 90 68 52 55 24 37 69 | 10 55  8 86  6 62 69 68 59 37 91 90 24 22 78 61 58 89 52 96 95 94 13 36 81'"
      ]
     },
     "execution_count": 5,
     "metadata": {},
     "output_type": "execute_result"
    }
   ],
   "source": [
    "input_4[0]"
   ]
  },
  {
   "cell_type": "markdown",
   "metadata": {},
   "source": [
    "Let's process this input, turning each string into a pair of lists for each card:"
   ]
  },
  {
   "cell_type": "code",
   "execution_count": 6,
   "metadata": {},
   "outputs": [],
   "source": [
    "def process_input_4(input_4: list[str]) -> list[tuple[list[int]]]:\n",
    "    processed_input = []\n",
    "    for line in input_4:\n",
    "        numbers = line.split(':')[1]\n",
    "        winning_numbers, my_numbers = numbers.split(' | ')\n",
    "        winning_numbers = winning_numbers.split()\n",
    "        my_numbers = my_numbers.split()\n",
    "        processed_input.append((winning_numbers, my_numbers))\n",
    "        \n",
    "    return processed_input"
   ]
  },
  {
   "cell_type": "code",
   "execution_count": 7,
   "metadata": {},
   "outputs": [],
   "source": [
    "processed_input = process_input_4(input_4)"
   ]
  },
  {
   "cell_type": "code",
   "execution_count": 8,
   "metadata": {},
   "outputs": [
    {
     "name": "stdout",
     "output_type": "stream",
     "text": [
      "(['8', '86', '59', '90', '68', '52', '55', '24', '37', '69'], ['10', '55', '8', '86', '6', '62', '69', '68', '59', '37', '91', '90', '24', '22', '78', '61', '58', '89', '52', '96', '95', '94', '13', '36', '81'])\n"
     ]
    }
   ],
   "source": [
    "print(processed_input[0])"
   ]
  },
  {
   "cell_type": "markdown",
   "metadata": {},
   "source": [
    "This problem is clearly calling for us to use a hash map, to check the scratchcard numbers against the winning numbers: so, create a dictionary for each card with winning numbers as the keys, and check the inclusion of each of the scratchcard numbers in turn. The specific scoring method described in the problem can also be implemented here - 1 point for a matching number, doubled for every subsequent match:"
   ]
  },
  {
   "cell_type": "code",
   "execution_count": 9,
   "metadata": {},
   "outputs": [],
   "source": [
    "def scratchcard_matches(winning_numbers: list[str], scratchcard_numbers: list[str]) -> int:\n",
    "    hash_map = {n: 1 for n in winning_numbers}\n",
    "    return len([n for n in scratchcard_numbers if n in hash_map])"
   ]
  },
  {
   "cell_type": "code",
   "execution_count": 10,
   "metadata": {},
   "outputs": [],
   "source": [
    "def scratchcard_score(n_matches: int) -> int:\n",
    "    if n_matches == 0:\n",
    "        return 0\n",
    "    else:\n",
    "        return 2**(n_matches-1)"
   ]
  },
  {
   "cell_type": "code",
   "execution_count": 11,
   "metadata": {},
   "outputs": [],
   "source": [
    "matches = [\n",
    "    scratchcard_matches(winning_numbers, scratchcard_numbers)\n",
    "    for winning_numbers, scratchcard_numbers in processed_input\n",
    "]"
   ]
  },
  {
   "cell_type": "code",
   "execution_count": 12,
   "metadata": {},
   "outputs": [
    {
     "data": {
      "text/plain": [
       "25651"
      ]
     },
     "execution_count": 12,
     "metadata": {},
     "output_type": "execute_result"
    }
   ],
   "source": [
    "sum([\n",
    "    scratchcard_score(n_match)\n",
    "    for n_match in matches\n",
    "])"
   ]
  },
  {
   "cell_type": "markdown",
   "metadata": {},
   "source": [
    "So the answer to part 1 is: __25651__."
   ]
  },
  {
   "cell_type": "markdown",
   "metadata": {},
   "source": [
    "## Part 2"
   ]
  },
  {
   "cell_type": "markdown",
   "metadata": {},
   "source": [
    "The scoring method from the previous section has been scrapped - instead, we have the following method of duplicating scratchcards:"
   ]
  },
  {
   "cell_type": "markdown",
   "metadata": {},
   "source": [
    "> Specifically, you win copies of the scratchcards below the winning card equal to the number of matches. So, if card 10 were to have 5 matching numbers, you would win one copy each of cards 11, 12, 13, 14, and 15.\n",
    "> Copies of scratchcards are scored like normal scratchcards and have the same card number as the card they copied. So, if you win a copy of card 10 and it has 5 matching numbers, it would then win a copy of the same cards that the original card 10 won: cards 11, 12, 13, 14, and 15. This process repeats until none of the copies cause you to win any more cards. (Cards will never make you copy a card past the end of the table.)"
   ]
  },
  {
   "cell_type": "markdown",
   "metadata": {},
   "source": [
    "From part 1, we still `matches`, a list of the number of matches found on each scratchcard. This function will convert this list of matches into a final card count:"
   ]
  },
  {
   "cell_type": "code",
   "execution_count": 13,
   "metadata": {},
   "outputs": [],
   "source": [
    "def final_card_number(matches: list[int]) -> int:\n",
    "    # Initialise the card numbers - 1 of each card:\n",
    "    n_cards = len(matches)\n",
    "    card_numbers = n_cards*[1]\n",
    "\n",
    "    for i in range(n_cards):\n",
    "        n_matches = matches[i]\n",
    "        for j in range(n_matches):\n",
    "            # Add card_numbers[i] new copies of the next n_matches cards\n",
    "            card_numbers[i+1+j] += card_numbers[i]\n",
    "    \n",
    "    return sum(card_numbers)"
   ]
  },
  {
   "cell_type": "code",
   "execution_count": 14,
   "metadata": {},
   "outputs": [
    {
     "data": {
      "text/plain": [
       "19499881"
      ]
     },
     "execution_count": 14,
     "metadata": {},
     "output_type": "execute_result"
    }
   ],
   "source": [
    "final_card_number(matches)"
   ]
  },
  {
   "cell_type": "markdown",
   "metadata": {},
   "source": [
    "And so the part 2 answer is: __19499881__."
   ]
  },
  {
   "cell_type": "markdown",
   "metadata": {},
   "source": [
    "This was a much more straightforward puzzle than yesterday - the code for processing the input was almost longer than the solutions themselves! "
   ]
  }
 ],
 "metadata": {
  "kernelspec": {
   "display_name": "aoc23",
   "language": "python",
   "name": "aoc23"
  },
  "language_info": {
   "codemirror_mode": {
    "name": "ipython",
    "version": 3
   },
   "file_extension": ".py",
   "mimetype": "text/x-python",
   "name": "python",
   "nbconvert_exporter": "python",
   "pygments_lexer": "ipython3",
   "version": "3.12.0"
  }
 },
 "nbformat": 4,
 "nbformat_minor": 4
}
