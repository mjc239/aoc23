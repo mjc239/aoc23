{
 "cells": [
  {
   "cell_type": "code",
   "execution_count": 1,
   "metadata": {},
   "outputs": [],
   "source": [
    "# Add module to path\n",
    "import os\n",
    "import sys\n",
    "module_path = os.path.abspath(os.path.join('..'))\n",
    "if module_path not in sys.path:\n",
    "    sys.path.append(module_path)"
   ]
  },
  {
   "cell_type": "code",
   "execution_count": 2,
   "metadata": {},
   "outputs": [],
   "source": [
    "# Imports\n",
    "from aoc23.utils import read_input\n",
    "import math\n",
    "import numpy as np\n",
    "from itertools import combinations"
   ]
  },
  {
   "cell_type": "code",
   "execution_count": 3,
   "metadata": {},
   "outputs": [],
   "source": [
    "input_11 = read_input(11)"
   ]
  },
  {
   "cell_type": "markdown",
   "metadata": {},
   "source": [
    "## Part 1"
   ]
  },
  {
   "cell_type": "markdown",
   "metadata": {},
   "source": [
    "In the first part of the [day 11 puzzle](https://adventofcode.com/2023/day/11), we are given an input consisting of an array of `.` and `#` characters. Each `#` represents a galaxy observed in the night sky, and `.` represents empty space. \n",
    "\n",
    ">The researcher is trying to figure out the sum of the lengths of the shortest path between every pair of galaxies. However, there's a catch: the universe expanded in the time it took the light from those galaxies to reach the observatory.\n",
    ">Due to something involving gravitational effects, only some space expands. In fact, the result is that any rows or columns that contain no galaxies should all actually be twice as big."
   ]
  },
  {
   "cell_type": "markdown",
   "metadata": {},
   "source": [
    "An initial attempt might consider modifying the existing array, and duplicating every empty row/column to create an expanded version. However, this would require creating a copy of the original array, potentially increased in size many times (this is not desirable, partly with an eye looking ahead at what to expect in part 2). So, instead we can keep track of the times when an empty row/column is observed, and make a record to refer to later:"
   ]
  },
  {
   "cell_type": "code",
   "execution_count": 4,
   "metadata": {},
   "outputs": [],
   "source": [
    "# Array size\n",
    "n_rows = len(input_11)\n",
    "n_cols = len(input_11[0])\n",
    "\n",
    "# Track the empty rows/columns - initialise lists\n",
    "col_tracker = n_cols*[1]\n",
    "row_tracker = n_rows*[0]\n",
    "\n",
    "# Also record the locations of the galaxies\n",
    "galaxy_locs = []"
   ]
  },
  {
   "cell_type": "markdown",
   "metadata": {},
   "source": [
    "The tracker lists will record a `1` when the row/column is empty (and so needs to be repeated), and a `0` otherwise:"
   ]
  },
  {
   "cell_type": "code",
   "execution_count": 5,
   "metadata": {},
   "outputs": [],
   "source": [
    "for row in range(n_rows):\n",
    "    is_row_empty = 1\n",
    "    for col, val in enumerate(input_11[row]):\n",
    "        if val == '#':\n",
    "            # Record galaxy location\n",
    "            galaxy_locs.append((row, col))\n",
    "            \n",
    "            # Update column tracker\n",
    "            col_tracker[col] = 0\n",
    "            \n",
    "            is_row_empty = 0\n",
    "    \n",
    "    # Update row tracker\n",
    "    row_tracker[row] = is_row_empty"
   ]
  },
  {
   "cell_type": "markdown",
   "metadata": {},
   "source": [
    "Taking the cumulative sum of these trackers will record the cumulative number of empty rows/columns up to a certain index:"
   ]
  },
  {
   "cell_type": "code",
   "execution_count": 6,
   "metadata": {},
   "outputs": [],
   "source": [
    "row_cumsum = np.cumsum(row_tracker)\n",
    "col_cumsum = np.cumsum(col_tracker)"
   ]
  },
  {
   "cell_type": "markdown",
   "metadata": {},
   "source": [
    "And so the distance between any two galaxies is the usual [taxicab metric](https://en.wikipedia.org/wiki/Taxicab_geometry), plus an additional component for each axis adding extra row/columns:"
   ]
  },
  {
   "cell_type": "code",
   "execution_count": 7,
   "metadata": {},
   "outputs": [],
   "source": [
    "sum_distances = 0\n",
    "\n",
    "for (i1, j1), (i2, j2) in combinations(galaxy_locs, 2):\n",
    "    row_expansion = row_cumsum[i2] - row_cumsum[i1]\n",
    "    col_expansion = col_cumsum[j2] - col_cumsum[j1]\n",
    "    \n",
    "    distance = np.abs(i2 - i1 + row_expansion) + np.abs(j2 - j1 + col_expansion)\n",
    "    sum_distances += distance"
   ]
  },
  {
   "cell_type": "code",
   "execution_count": 8,
   "metadata": {},
   "outputs": [
    {
     "data": {
      "text/plain": [
       "10276166"
      ]
     },
     "execution_count": 8,
     "metadata": {},
     "output_type": "execute_result"
    }
   ],
   "source": [
    "sum_distances"
   ]
  },
  {
   "cell_type": "markdown",
   "metadata": {},
   "source": [
    "And so the answer to part 1 is: __10276166__."
   ]
  },
  {
   "cell_type": "markdown",
   "metadata": {},
   "source": [
    "## Part 2"
   ]
  },
  {
   "cell_type": "markdown",
   "metadata": {},
   "source": [
    "The foresight from earlier has paid off - instead of repeating each empty row/column once, they should be repeated 1,000,000 times. In order to do this, all that is needed is an additional factor in the distance metric:"
   ]
  },
  {
   "cell_type": "code",
   "execution_count": 10,
   "metadata": {},
   "outputs": [],
   "source": [
    "def compute_sum_distances(puzzle_input, factor):\n",
    "    # Array size\n",
    "    n_rows = len(puzzle_input)\n",
    "    n_cols = len(puzzle_input[0])\n",
    "    \n",
    "    # Track the empty rows/columns - initialise lists\n",
    "    col_tracker = n_cols*[1]\n",
    "    row_tracker = n_rows*[0]\n",
    "    \n",
    "    # Also record the locations of the galaxies\n",
    "    galaxy_locs = []\n",
    "    \n",
    "    for row in range(n_rows):\n",
    "        is_row_empty = 1\n",
    "        for col, val in enumerate(puzzle_input[row]):\n",
    "            if val == '#':\n",
    "                # Record galaxy location\n",
    "                galaxy_locs.append((row, col))\n",
    "                \n",
    "                # Update column tracker\n",
    "                col_tracker[col] = 0\n",
    "                \n",
    "                is_row_empty = 0\n",
    "        \n",
    "        # Update column tracker\n",
    "        row_tracker[row] = is_row_empty\n",
    "    \n",
    "    # Cumulative empty row trackers\n",
    "    row_cumsum = np.cumsum(row_tracker)\n",
    "    col_cumsum = np.cumsum(col_tracker)\n",
    "    \n",
    "    sum_distances = 0\n",
    "    for (i1, j1), (i2, j2) in combinations(galaxy_locs, 2):\n",
    "        # Number of empty rows/columns between these two galaxies\n",
    "        row_expansion = row_cumsum[i2] - row_cumsum[i1]\n",
    "        col_expansion = col_cumsum[j2] - col_cumsum[j1]\n",
    "        \n",
    "        # Taxicab + expansion metric\n",
    "        distance = np.abs(i2 - i1 + (factor-1)*row_expansion) + np.abs(j2 - j1 + (factor-1)*col_expansion)\n",
    "        \n",
    "        # Convert back to native int, to avoid overflow errors with np.int32\n",
    "        sum_distances += int(distance)\n",
    "    \n",
    "    return sum_distances"
   ]
  },
  {
   "cell_type": "markdown",
   "metadata": {},
   "source": [
    "On the part 1 problem, using `factor=2` should reproduce the earlier result:"
   ]
  },
  {
   "cell_type": "code",
   "execution_count": 11,
   "metadata": {},
   "outputs": [
    {
     "data": {
      "text/plain": [
       "10276166"
      ]
     },
     "execution_count": 11,
     "metadata": {},
     "output_type": "execute_result"
    }
   ],
   "source": [
    "compute_sum_distances(input_11, 2)"
   ]
  },
  {
   "cell_type": "markdown",
   "metadata": {},
   "source": [
    "Also, on the test input provided, the provided distances for `factor=2`, `factor=10` and `factor=100` can be reproduced:"
   ]
  },
  {
   "cell_type": "code",
   "execution_count": 12,
   "metadata": {},
   "outputs": [],
   "source": [
    "test_input = [\n",
    "    '...#......',\n",
    "    '.......#..',\n",
    "    '#.........',\n",
    "    '..........',\n",
    "    '......#...',\n",
    "    '.#........',\n",
    "    '.........#',\n",
    "    '..........',\n",
    "    '.......#..',\n",
    "    '#...#.....'\n",
    "]"
   ]
  },
  {
   "cell_type": "code",
   "execution_count": 13,
   "metadata": {},
   "outputs": [
    {
     "name": "stdout",
     "output_type": "stream",
     "text": [
      "Success!\n"
     ]
    }
   ],
   "source": [
    "assert compute_sum_distances(test_input, 2) == 374\n",
    "assert compute_sum_distances(test_input, 10) == 1030\n",
    "assert compute_sum_distances(test_input, 100) == 8410\n",
    "print('Success!')"
   ]
  },
  {
   "cell_type": "markdown",
   "metadata": {},
   "source": [
    "All that is left is to compute the distance with `factor=1_000_000`:"
   ]
  },
  {
   "cell_type": "code",
   "execution_count": 16,
   "metadata": {},
   "outputs": [
    {
     "data": {
      "text/plain": [
       "598693078798"
      ]
     },
     "execution_count": 16,
     "metadata": {},
     "output_type": "execute_result"
    }
   ],
   "source": [
    "compute_sum_distances(input_11, 1_000_000)"
   ]
  },
  {
   "cell_type": "markdown",
   "metadata": {},
   "source": [
    "And so the answer to part 2 is: __598693078798__."
   ]
  },
  {
   "cell_type": "code",
   "execution_count": null,
   "metadata": {},
   "outputs": [],
   "source": []
  }
 ],
 "metadata": {
  "kernelspec": {
   "display_name": "aoc23",
   "language": "python",
   "name": "aoc23"
  },
  "language_info": {
   "codemirror_mode": {
    "name": "ipython",
    "version": 3
   },
   "file_extension": ".py",
   "mimetype": "text/x-python",
   "name": "python",
   "nbconvert_exporter": "python",
   "pygments_lexer": "ipython3",
   "version": "3.12.0"
  }
 },
 "nbformat": 4,
 "nbformat_minor": 4
}
