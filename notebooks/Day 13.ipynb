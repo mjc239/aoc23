{
 "cells": [
  {
   "cell_type": "code",
   "execution_count": null,
   "metadata": {},
   "outputs": [],
   "source": [
    "# Add module to path\n",
    "import os\n",
    "import sys\n",
    "module_path = os.path.abspath(os.path.join('..'))\n",
    "if module_path not in sys.path:\n",
    "    sys.path.append(module_path)"
   ]
  },
  {
   "cell_type": "code",
   "execution_count": 2,
   "metadata": {},
   "outputs": [],
   "source": [
    "# Imports\n",
    "from aoc23.utils import read_input"
   ]
  },
  {
   "cell_type": "code",
   "execution_count": 3,
   "metadata": {},
   "outputs": [],
   "source": [
    "input_13 = read_input(13)"
   ]
  },
  {
   "cell_type": "markdown",
   "metadata": {},
   "source": [
    "## Part 1"
   ]
  },
  {
   "cell_type": "markdown",
   "metadata": {},
   "source": [
    "In the first part of the [day 13 puzzle](https://adventofcode.com/2023/day/13), we are provided with a number of arrays containing ash (`.`) and rocks (`#`), and are told that these grids contain mirrors which are aligned with one of the two coordinate axes. The task is to identify in each of the grids a perfect vertical or horizontal reflection.\n",
    "\n",
    "First, process the provided input:"
   ]
  },
  {
   "cell_type": "code",
   "execution_count": 4,
   "metadata": {},
   "outputs": [],
   "source": [
    "def process_input(input_list: list[str]) -> list[list[str]]:\n",
    "    out = []\n",
    "    this_grid = []\n",
    "    for line in input_list:\n",
    "        if line == '':\n",
    "            out.append(this_grid)\n",
    "            this_grid = []\n",
    "        else:\n",
    "            this_grid.append(line)\n",
    "    out.append(this_grid)\n",
    "    return out"
   ]
  },
  {
   "cell_type": "code",
   "execution_count": 5,
   "metadata": {},
   "outputs": [],
   "source": [
    "processed_input = process_input(input_13)"
   ]
  },
  {
   "cell_type": "markdown",
   "metadata": {},
   "source": [
    "Consider the first grid as an example:"
   ]
  },
  {
   "cell_type": "code",
   "execution_count": 6,
   "metadata": {},
   "outputs": [
    {
     "name": "stdout",
     "output_type": "stream",
     "text": [
      ".#..#......\n",
      "..#.#......\n",
      "..#...#....\n",
      "#.##...####\n",
      ".#..#..####\n",
      "#.#.##.####\n",
      "###..#.#..#\n"
     ]
    }
   ],
   "source": [
    "for line in processed_input[0]:\n",
    "    print(line)"
   ]
  },
  {
   "cell_type": "markdown",
   "metadata": {},
   "source": [
    "By inspection, we can see that the mirror lies vertically, between the 9th and 10th columns of the array."
   ]
  },
  {
   "cell_type": "markdown",
   "metadata": {},
   "source": [
    "First, note that we need only consider the case of horizontal mirrors, lying between the rows of the array; the search for vertical mirrors can be done by taking the transpose of the grid, and applying the same analysis as for the horizontal case.\n",
    "\n",
    "The strategy will be to consider each mirror placement in turn, and compare the two halves of the grid either side of the mirror. By summing the number of differences between each corresponding pair of strings, and then summing over all pairs, we obtain a sum of all the differences between the two halves. Exact matches will have 0 differences."
   ]
  },
  {
   "cell_type": "code",
   "execution_count": 7,
   "metadata": {},
   "outputs": [],
   "source": [
    "def summarise_notes(grid: list[str], num_differences=0) -> int:\n",
    "    # n columns, m rows\n",
    "    n = len(grid[0])\n",
    "    m = len(grid)\n",
    "    \n",
    "    # A neat way to transpose a list of strings!\n",
    "    transposed_grid = list(map(lambda x: ''.join(x), zip(*grid)))\n",
    "    \n",
    "    # Check each potential row/column mirror position\n",
    "    # Exact reflections will have 0 differences\n",
    "    potential_horizontal_line = [sum_differences(grid[j::-1], grid[j+1:]) \n",
    "                                 for j in range(m-1)]\n",
    "    potential_vertical_line = [sum_differences(transposed_grid[i::-1], transposed_grid[i+1:]) \n",
    "                               for i in range(n-1)]\n",
    "    \n",
    "    # Compute the summaries by finding entries with 0 differences\n",
    "    horizontal_summary = sum([100*(j+1) \n",
    "                              for j, val in enumerate(potential_horizontal_line) \n",
    "                              if val == num_differences])\n",
    "    vertical_summary = sum([i+1 \n",
    "                            for i, val in enumerate(potential_vertical_line) \n",
    "                            if val == num_differences])\n",
    "    \n",
    "    # Puzzle leaves open possibility of multiple mirror lines\n",
    "    return horizontal_summary + vertical_summary"
   ]
  },
  {
   "cell_type": "markdown",
   "metadata": {},
   "source": [
    "This function relies on this helper function, which compares the two halves of the grid created by each mirror placement:"
   ]
  },
  {
   "cell_type": "code",
   "execution_count": 8,
   "metadata": {},
   "outputs": [],
   "source": [
    "def sum_differences(half_1: list[str], half_2: list[str]) -> int:\n",
    "   # Only compare the overlapping portions\n",
    "    min_length = min(len(half_1), len(half_2))\n",
    "    half_1 = half_1[:min_length]\n",
    "    half_2 = half_2[:min_length]\n",
    "    \n",
    "    # For each half of the array, compare the corresponding strings\n",
    "    # Sum the number of differences between each pair\n",
    "    diffs = [\n",
    "        sum([char_1 != char_2 for char_1, char_2 in zip(string_1, string_2)]) \n",
    "        for string_1, string_2 in zip(half_1, half_2)\n",
    "    ]\n",
    "    \n",
    "    return sum(diffs)"
   ]
  },
  {
   "cell_type": "markdown",
   "metadata": {},
   "source": [
    "The puzzle provides a couple of examples, as well as the expected summary values:"
   ]
  },
  {
   "cell_type": "code",
   "execution_count": 9,
   "metadata": {},
   "outputs": [
    {
     "name": "stdout",
     "output_type": "stream",
     "text": [
      "Success!\n"
     ]
    }
   ],
   "source": [
    "assert summarise_notes([\n",
    "    '#.##..##.',\n",
    "    '..#.##.#.',\n",
    "    '##......#',\n",
    "    '##......#',\n",
    "    '..#.##.#.',\n",
    "    '..##..##.',\n",
    "    '#.#.##.#.'\n",
    "]) == 5\n",
    "\n",
    "assert summarise_notes([\n",
    "    '#...##..#',\n",
    "    '#....#..#',\n",
    "    '..##..###',\n",
    "    '#####.##.',\n",
    "    '#####.##.',\n",
    "    '..##..###',\n",
    "    '#....#..#'\n",
    "]) == 400\n",
    "print('Success!')"
   ]
  },
  {
   "cell_type": "markdown",
   "metadata": {},
   "source": [
    "Running this across all grids in the input file:"
   ]
  },
  {
   "cell_type": "code",
   "execution_count": 10,
   "metadata": {},
   "outputs": [
    {
     "data": {
      "text/plain": [
       "40006"
      ]
     },
     "execution_count": 10,
     "metadata": {},
     "output_type": "execute_result"
    }
   ],
   "source": [
    "sum(map(summarise_notes, processed_input))"
   ]
  },
  {
   "cell_type": "markdown",
   "metadata": {},
   "source": [
    "So the answer to part 1 is: __40006__."
   ]
  },
  {
   "cell_type": "markdown",
   "metadata": {},
   "source": [
    "## Part 2"
   ]
  },
  {
   "cell_type": "markdown",
   "metadata": {},
   "source": [
    "In the second part, instead of finding exact reflections in each grid, we are asked to find almost-exact reflections - ones in which each half differ by only a single character. Thankfully (but not coincidentally), the function from earlier has an additional argument, designed in order to find almost-exact matches instead. This makes use of the fact that the function computes the total number of differences between each half, and the only way for this to equal 1 is for there to be a single character mismatch."
   ]
  },
  {
   "cell_type": "markdown",
   "metadata": {},
   "source": [
    "Checking this against the provided examples verifies that the function still works with the modification:"
   ]
  },
  {
   "cell_type": "code",
   "execution_count": 11,
   "metadata": {},
   "outputs": [
    {
     "name": "stdout",
     "output_type": "stream",
     "text": [
      "Success!\n"
     ]
    }
   ],
   "source": [
    "assert summarise_notes([\n",
    "    '#.##..##.',\n",
    "    '..#.##.#.',\n",
    "    '##......#',\n",
    "    '##......#',\n",
    "    '..#.##.#.',\n",
    "    '..##..##.',\n",
    "    '#.#.##.#.'\n",
    "], num_differences=1) == 300\n",
    "\n",
    "assert summarise_notes([\n",
    "    '#...##..#',\n",
    "    '#....#..#',\n",
    "    '..##..###',\n",
    "    '#####.##.',\n",
    "    '#####.##.',\n",
    "    '..##..###',\n",
    "    '#....#..#'\n",
    "], num_differences=1) == 100\n",
    "print('Success!')"
   ]
  },
  {
   "cell_type": "markdown",
   "metadata": {},
   "source": [
    "Running this one more time against the full list of input arrays gives:"
   ]
  },
  {
   "cell_type": "code",
   "execution_count": 12,
   "metadata": {},
   "outputs": [
    {
     "data": {
      "text/plain": [
       "28627"
      ]
     },
     "execution_count": 12,
     "metadata": {},
     "output_type": "execute_result"
    }
   ],
   "source": [
    "sum(map(lambda x: summarise_notes(x, 1), processed_input))"
   ]
  },
  {
   "cell_type": "markdown",
   "metadata": {},
   "source": [
    "And so the part 2 answer is: __28627__."
   ]
  }
 ],
 "metadata": {
  "kernelspec": {
   "display_name": "aoc23",
   "language": "python",
   "name": "aoc23"
  },
  "language_info": {
   "codemirror_mode": {
    "name": "ipython",
    "version": 3
   },
   "file_extension": ".py",
   "mimetype": "text/x-python",
   "name": "python",
   "nbconvert_exporter": "python",
   "pygments_lexer": "ipython3",
   "version": "3.12.0"
  }
 },
 "nbformat": 4,
 "nbformat_minor": 4
}
