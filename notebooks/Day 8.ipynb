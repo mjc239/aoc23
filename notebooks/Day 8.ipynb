{
 "cells": [
  {
   "cell_type": "code",
   "execution_count": 1,
   "metadata": {},
   "outputs": [],
   "source": [
    "# Add module to path\n",
    "import os\n",
    "import sys\n",
    "module_path = os.path.abspath(os.path.join('..'))\n",
    "if module_path not in sys.path:\n",
    "    sys.path.append(module_path)"
   ]
  },
  {
   "cell_type": "code",
   "execution_count": 2,
   "metadata": {},
   "outputs": [],
   "source": [
    "# Imports\n",
    "from aoc23.utils import read_input\n",
    "import math"
   ]
  },
  {
   "cell_type": "code",
   "execution_count": 3,
   "metadata": {},
   "outputs": [],
   "source": [
    "input_8 = read_input(8)"
   ]
  },
  {
   "cell_type": "markdown",
   "metadata": {},
   "source": [
    "## Part 1"
   ]
  },
  {
   "cell_type": "markdown",
   "metadata": {},
   "source": [
    "In [today's puzzle](https://adventofcode.com/2023/day/8), we are considering a collection of nodes labelled by three-letter codes (from 'AAA' to 'ZZZ'), and maps describing how these nodes are connected. From each node, a left ('L') or right ('R') turn maps to a new node, determined by the puzzle input. Also provided is a list of instructions, consisting of a sequence of 'L' and 'R' characters.\n",
    "\n",
    "First, extract the instructions and the maps from the input file:"
   ]
  },
  {
   "cell_type": "code",
   "execution_count": 4,
   "metadata": {},
   "outputs": [],
   "source": [
    "instructions = input_8[0]\n",
    "map_lines = input_8[2:]"
   ]
  },
  {
   "cell_type": "code",
   "execution_count": 5,
   "metadata": {},
   "outputs": [],
   "source": [
    "maps = {}\n",
    "for line in map_lines:\n",
    "    s = line.split()\n",
    "    k = s[0]\n",
    "    v = {'L': s[2][1:-1], 'R': s[3][:-1]}\n",
    "    maps[k] = v"
   ]
  },
  {
   "cell_type": "markdown",
   "metadata": {},
   "source": [
    "We are asked to find the number of steps, when following the instructions (and repeating them from the start if exhausted), starting from the node 'AAA':"
   ]
  },
  {
   "cell_type": "code",
   "execution_count": 6,
   "metadata": {},
   "outputs": [],
   "source": [
    "node = 'AAA'\n",
    "steps = 0\n",
    "while node != 'ZZZ':\n",
    "    for instr in instructions:\n",
    "        steps += 1\n",
    "        node = maps[node][instr]\n",
    "        if node == 'ZZZ':\n",
    "            break"
   ]
  },
  {
   "cell_type": "code",
   "execution_count": 7,
   "metadata": {},
   "outputs": [
    {
     "data": {
      "text/plain": [
       "16579"
      ]
     },
     "execution_count": 7,
     "metadata": {},
     "output_type": "execute_result"
    }
   ],
   "source": [
    "steps"
   ]
  },
  {
   "cell_type": "markdown",
   "metadata": {},
   "source": [
    "So the answer to part 1 is: __16579__."
   ]
  },
  {
   "cell_type": "markdown",
   "metadata": {},
   "source": [
    "## Part 2"
   ]
  },
  {
   "cell_type": "markdown",
   "metadata": {},
   "source": [
    "In the second part, we need to track not just the 'AAA' node, but also all the other nodes ending in 'A', of which there are 6:"
   ]
  },
  {
   "cell_type": "code",
   "execution_count": 8,
   "metadata": {},
   "outputs": [],
   "source": [
    "start_nodes = [node for node in maps if node[2] == 'A']"
   ]
  },
  {
   "cell_type": "code",
   "execution_count": 9,
   "metadata": {},
   "outputs": [
    {
     "data": {
      "text/plain": [
       "['KTA', 'PLA', 'LJA', 'AAA', 'JXA', 'NFA']"
      ]
     },
     "execution_count": 9,
     "metadata": {},
     "output_type": "execute_result"
    }
   ],
   "source": [
    "start_nodes"
   ]
  },
  {
   "cell_type": "markdown",
   "metadata": {},
   "source": [
    "To formalize the setup a bit more, let's define the following quantities:\n",
    "- The starting nodes ${A_i}$ for $1\\le i\\le 6$\n",
    "- The 'state' of each chain is given by $(N_i, j)$, where $N_i$ is the current node, and $j$ is the index of the instruction which is about to be followed. The path from each state $(N_i, j)$ is uniquely determined by the instruction set and the node maps, and is the same each time the state is revisited.\n",
    "- At some point, the chain will return to a previously visited state - this is guaranteed, as there are only finitely many (node, instruction) pairs. Once this happens, the chain will loop around indefinitely, with cycle length $C_i$.\n",
    "- For each starting node $A_i$, the numbers of steps taken before a destination state is reached for the first time is $Z_i=(t^{(i)}_1, t^{(i)}_2, ...)$, with $t^{(i)}_1<t^{(i)}_2<...$ Once the cycle starts repeating, we can stop recording these, as any number of steps of the form $t^{(i)}_1+kC_i$ will also be a valid entry; in this way the collection of steps $Z_i$ remains finite."
   ]
  },
  {
   "cell_type": "markdown",
   "metadata": {},
   "source": [
    "The behaviour of each chain can be visualized in the diagram below. Each node in the diagram represents a state of the chain; for example, for one of the chains, the first node $A$ is $(AAA, 0)$ and the node $Z$ is $(ZZZ, k)$ for some instruction index $k$."
   ]
  },
  {
   "cell_type": "markdown",
   "metadata": {},
   "source": [
    "\n",
    "| ![Chain behaviour, starting at one of the initial nodes](aoc23_day8_chain.png) |\n",
    "|:--:|\n",
    "| It takes $Z$ steps to reach the destination nodes, and the cycle is of length $C$. |\n",
    "|  |"
   ]
  },
  {
   "cell_type": "markdown",
   "metadata": {},
   "source": [
    "With these definitions, let's now investigate the chains originating from each of the 6 starting nodes. First, define a function that will calculate the list of visited states from a starting node:"
   ]
  },
  {
   "cell_type": "code",
   "execution_count": 10,
   "metadata": {},
   "outputs": [],
   "source": [
    "def compute_visited(start_node, instructions, maps):\n",
    "    # Computes the list of (node, instruction_index) states, starting from start_node, \n",
    "    # as well as the the first repeated element of the list (defining the start \n",
    "    # of the cycle)\n",
    "    visited = []\n",
    "    state = (start_node, 0)\n",
    "    instruction_idx = 0\n",
    "    while state not in visited:\n",
    "        visited.append(state)\n",
    "        instruction_idx = (instruction_idx + 1) % len(instructions)\n",
    "        state = (maps[state[0]][instructions[state[1]]], instruction_idx)\n",
    "    return visited, state"
   ]
  },
  {
   "cell_type": "markdown",
   "metadata": {},
   "source": [
    "Also, adapt the code from earlier, computing the number of steps needed to reach the first destination node (ending 'Z'):"
   ]
  },
  {
   "cell_type": "code",
   "execution_count": 11,
   "metadata": {},
   "outputs": [],
   "source": [
    "def num_steps(node, instructions, maps):\n",
    "    # Computes the number of steps taken to reach the first destination node\n",
    "    steps = 0\n",
    "    while node[2] != 'Z':\n",
    "        for instr in instructions:\n",
    "            steps += 1\n",
    "            node = maps[node][instr]\n",
    "            if node[2] == 'Z':\n",
    "                break\n",
    "    return steps"
   ]
  },
  {
   "cell_type": "markdown",
   "metadata": {},
   "source": [
    "Now, compute for each of the chains:\n",
    "- The list of visited states\n",
    "- The first repeated node (the start of the cycle repeating)\n",
    "- The length of the cycle, once it starts repeating ($C_i$)\n",
    "- The number of steps taken to reach destination states for the first time ($Z_i$)"
   ]
  },
  {
   "cell_type": "code",
   "execution_count": 12,
   "metadata": {},
   "outputs": [],
   "source": [
    "visited = {}\n",
    "next_nodes = {}\n",
    "cycle_lengths = {}\n",
    "# tails = {}\n",
    "Z = {}\n",
    "for start_node in start_nodes:\n",
    "    vis, k = compute_visited(start_node, instructions, maps)\n",
    "    visited[start_node] = vis\n",
    "    next_nodes[start_node] = k\n",
    "    cycle_lengths[start_node] = len(vis) - vis.index(k)\n",
    "    Z[start_node] = num_steps(start_node, instructions, maps)"
   ]
  },
  {
   "cell_type": "markdown",
   "metadata": {},
   "source": [
    "The first question to ask in: do the visited paths of two different start nodes intersect? If they do, then the same initial node may lead into the same cycle, and the chains could potentially never finish on a destination node simultaneously. The visited lists can be intersected, to see if there is any overlap:"
   ]
  },
  {
   "cell_type": "code",
   "execution_count": 13,
   "metadata": {},
   "outputs": [
    {
     "name": "stdout",
     "output_type": "stream",
     "text": [
      "[]\n"
     ]
    }
   ],
   "source": [
    "matches = []\n",
    "for n1 in start_nodes:\n",
    "    for n2 in start_nodes:\n",
    "        if n1 == n2:\n",
    "            continue\n",
    "        intersection = set(visited[n1]).intersection(set(visited[n2]))\n",
    "        if len(intersection) > 0:\n",
    "            matches.append((n1, n2))\n",
    "print(matches)"
   ]
  },
  {
   "cell_type": "markdown",
   "metadata": {},
   "source": [
    "There are no matches - so the chains for each starting node are distinct and non-overlapping. As there are only 6 destination nodes, there must be one in each of these chains (otherwise the problem is impossible!). Another further thing to consider is how many times a destination state (of the form $(XXZ, k)$ for some destination node XXZ and some index k) appears in each visited state list:"
   ]
  },
  {
   "cell_type": "code",
   "execution_count": 14,
   "metadata": {},
   "outputs": [
    {
     "name": "stdout",
     "output_type": "stream",
     "text": [
      "[('DLZ', 0)]\n",
      "[('RGZ', 0)]\n",
      "[('BGZ', 0)]\n",
      "[('ZZZ', 0)]\n",
      "[('NTZ', 0)]\n",
      "[('HBZ', 0)]\n"
     ]
    }
   ],
   "source": [
    "for start_node in start_nodes:\n",
    "    print([state for state in visited[start_node] if state[0][2] == 'Z'])"
   ]
  },
  {
   "cell_type": "markdown",
   "metadata": {},
   "source": [
    "Luckily for us, there is a unique destination state in each of the chains! Given all this information, we can set up the problem as a set of linear congruence relations. Let $N$ be the smallest number of steps taken, until all destination nodes are visited simultaneously. Considering the $i$th chain, $N$ must be of the form:\n",
    "\n",
    "$$\n",
    "N = Z_i + kC_i\n",
    "$$\n",
    "\n",
    "for some $k\\in\\mathbb{N}_0$. Combining these relations for all the chains gives the set of simultaneous congruence relations:\n",
    "\n",
    "$$\n",
    "N \\equiv Z_1 \\:\\text{mod}\\; C_1 \\\\\n",
    "N \\equiv Z_2 \\:\\text{mod}\\; C_2 \\\\\n",
    "N \\equiv Z_3 \\:\\text{mod}\\; C_3 \\\\\n",
    "N \\equiv Z_4 \\:\\text{mod}\\; C_4 \\\\\n",
    "N \\equiv Z_5 \\:\\text{mod}\\; C_5 \\\\\n",
    "N \\equiv Z_6 \\:\\text{mod}\\; C_6 \n",
    "$$"
   ]
  },
  {
   "cell_type": "markdown",
   "metadata": {},
   "source": [
    "where the $Z_i$ have been reduced module $C_i$. For the general case, the Chinese Remainder Theorem may be used to find the smallest $N$ that satisfies this set of congruences. Fortunately, the task is made easier by the following observation:"
   ]
  },
  {
   "cell_type": "code",
   "execution_count": 15,
   "metadata": {},
   "outputs": [
    {
     "name": "stdout",
     "output_type": "stream",
     "text": [
      "Start node = KTA, Z_i = 14893, C_i = 14893\n",
      "Start node = PLA, Z_i = 19951, C_i = 19951\n",
      "Start node = LJA, Z_i = 22199, C_i = 22199\n",
      "Start node = AAA, Z_i = 16579, C_i = 16579\n",
      "Start node = JXA, Z_i = 17141, C_i = 17141\n",
      "Start node = NFA, Z_i = 12083, C_i = 12083\n"
     ]
    }
   ],
   "source": [
    "for start_node in start_nodes:\n",
    "    print(f'Start node = {start_node}, Z_i = {Z[start_node]}, C_i = {cycle_lengths[start_node]}')"
   ]
  },
  {
   "cell_type": "markdown",
   "metadata": {},
   "source": [
    "Each of the remainders is $\\equiv 0$ when reduced modulo $C_i$; in this special case, the solution $N$ is just the lowest common multiple of the cycle lengths $C_i$:"
   ]
  },
  {
   "cell_type": "code",
   "execution_count": 16,
   "metadata": {},
   "outputs": [
    {
     "data": {
      "text/plain": [
       "12927600769609"
      ]
     },
     "execution_count": 16,
     "metadata": {},
     "output_type": "execute_result"
    }
   ],
   "source": [
    "math.lcm(*cycle_lengths.values())"
   ]
  },
  {
   "cell_type": "markdown",
   "metadata": {},
   "source": [
    "So the answer to part 2 is: __12927600769609__."
   ]
  },
  {
   "cell_type": "markdown",
   "metadata": {},
   "source": [
    "Further reading:\n",
    "- [Chinese remainder theorem](https://en.wikipedia.org/wiki/Chinese_remainder_theorem) - the general method to use when faced with a set of simultaneous linear congruences"
   ]
  }
 ],
 "metadata": {
  "kernelspec": {
   "display_name": "aoc23",
   "language": "python",
   "name": "aoc23"
  },
  "language_info": {
   "codemirror_mode": {
    "name": "ipython",
    "version": 3
   },
   "file_extension": ".py",
   "mimetype": "text/x-python",
   "name": "python",
   "nbconvert_exporter": "python",
   "pygments_lexer": "ipython3",
   "version": "3.12.0"
  }
 },
 "nbformat": 4,
 "nbformat_minor": 4
}
