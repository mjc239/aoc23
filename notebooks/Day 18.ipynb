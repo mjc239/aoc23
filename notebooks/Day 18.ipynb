{
 "cells": [
  {
   "cell_type": "code",
   "execution_count": 1,
   "metadata": {},
   "outputs": [],
   "source": [
    "# Add module to path\n",
    "import os\n",
    "import sys\n",
    "module_path = os.path.abspath(os.path.join('..'))\n",
    "if module_path not in sys.path:\n",
    "    sys.path.append(module_path)"
   ]
  },
  {
   "cell_type": "code",
   "execution_count": 2,
   "metadata": {},
   "outputs": [],
   "source": [
    "# Imports\n",
    "from aoc23.utils import read_input\n",
    "import numpy as np\n",
    "from matplotlib.patches import Polygon\n",
    "import matplotlib.pyplot as plt"
   ]
  },
  {
   "cell_type": "code",
   "execution_count": 3,
   "metadata": {},
   "outputs": [],
   "source": [
    "input_18 = read_input(18)"
   ]
  },
  {
   "cell_type": "markdown",
   "metadata": {},
   "source": [
    "## Part 1"
   ]
  },
  {
   "cell_type": "markdown",
   "metadata": {},
   "source": [
    "In part 1 of the [day 18 puzzle](https://adventofcode.com/2023/day/18), we are given a list of instructions describing the boundary of a lagoon: each instruction contains a direction (`U`, `D`, `L` or `R`) as well as an integer giving the number of steps to move in that direction. By starting at some initial location (e.g. $(0, 0)$) and following the steps in sequence, we will eventually end up back at the starting position. The puzzle asks to find the number of integer lattice points contained inside the boundary, including points on the boundary itself.\n",
    "\n",
    "First, extract the list of instructions from the input file:"
   ]
  },
  {
   "cell_type": "code",
   "execution_count": 4,
   "metadata": {},
   "outputs": [],
   "source": [
    "def process_input(input_strings):\n",
    "    steps = [[s.strip('()') for s in line.split()] for line in input_strings]\n",
    "    return steps"
   ]
  },
  {
   "cell_type": "code",
   "execution_count": 5,
   "metadata": {},
   "outputs": [
    {
     "data": {
      "text/plain": [
       "[['R', '8', '#594dc2'],\n",
       " ['U', '3', '#7deda3'],\n",
       " ['R', '9', '#594dc0'],\n",
       " ['U', '5', '#4ce433'],\n",
       " ['R', '3', '#5bbe72']]"
      ]
     },
     "execution_count": 5,
     "metadata": {},
     "output_type": "execute_result"
    }
   ],
   "source": [
    "steps = process_input(input_18)\n",
    "steps[:5]"
   ]
  },
  {
   "cell_type": "markdown",
   "metadata": {},
   "source": [
    "Each instruction also contain a hexadecimal number, but this won't be needed until part 2, so let's ignore it for now. The example instructions from the puzzle will also come in useful, for testing the implementation:"
   ]
  },
  {
   "cell_type": "code",
   "execution_count": 6,
   "metadata": {},
   "outputs": [],
   "source": [
    "test_input = [\n",
    "    'R 6 (#70c710)',\n",
    "    'D 5 (#0dc571)',\n",
    "    'L 2 (#5713f0)',\n",
    "    'D 2 (#d2c081)',\n",
    "    'R 2 (#59c680)',\n",
    "    'D 2 (#411b91)',\n",
    "    'L 5 (#8ceee2)',\n",
    "    'U 2 (#caa173)',\n",
    "    'L 1 (#1b58a2)',\n",
    "    'U 2 (#caa171)',\n",
    "    'R 2 (#7807d2)',\n",
    "    'U 3 (#a77fa3)',\n",
    "    'L 2 (#015232)',\n",
    "    'U 2 (#7a21e3)'\n",
    "]"
   ]
  },
  {
   "cell_type": "code",
   "execution_count": 7,
   "metadata": {},
   "outputs": [],
   "source": [
    "test_steps = process_input(test_input)"
   ]
  },
  {
   "cell_type": "markdown",
   "metadata": {},
   "source": [
    "My first reaction to reading this puzzle was that it reminded me a lot of the puzzle from [day 10](_posts/2023-12-08-aoc23-day10.md), where we we asked to find the number of tiles inside an enclosing boundary, similarly made of consecutive tiles. The approach there involved looping over the rows in the array, checking each character one at a time and determining whether it lay inside or outside the boundary. However, I wanted to use a different approach this time (spoiler: it was worthwhile, in retrospect, after completing part 2!).\n",
    "\n",
    "After some reflection, I remembered the following theorem by Georg Alexander Pick (1899):\n",
    "\n",
    "> __Theorem 1:__ (Pick’s Theorem). Consider a simple polygon (i.e. no holes) with\n",
    "vertices lying on an integer grid. The area, $A$, can be calculated using the following formula:\n",
    ">\n",
    ">$$\n",
    "A = i + \\frac{b}{2} − 1\n",
    "$$\n",
    ">\n",
    ">where $i$ is the number of grid points inside the polygon, and $b$ is the\n",
    ">number of grid points that lie on the boundary of the polygon.\n",
    "\n",
    "Georg Alexander Pick was an interesting and influential mathematician - although he is now most commonly known by this theorem, he also made contributions to complex analysis and differential geometry. In fact, he was supposedly the person who introduced the work of Ricci-Curbastro and Levi-Civita on Ricci calculus to Albert Einstein, who used it as an essential component of his theory of general relativity.\n",
    "\n",
    "In this specific setup, by considering the elements of the grid to lie on integer lattice points, Pick's theorem allows us to relate the number of points inside the boundary to the number on the boundary (easily computed from the steps directly) and the area. Thankfully, there is a further result which allows us to compute the area of the polygon created by the boundary, using just the coordinates of the vertices:\n",
    "\n",
    "> __Theorem 2:__ (Shoelace formula). Consider a simple polygon (i.e. no holes) with vertices $(x_i, y_i)$ in Cartesian coordinates, for $1\\le i\\le n+1$ ($n$ vertices, and the $(n+1)$st vertex a copy of the first to complete the loop), arranged counter-clockwise around the boundary. Then the area of the region inside the polygon is given by the following formula:\n",
    "\n",
    "$$\n",
    "A = \\frac{1}{2}\\sum_{i=1}^{n+1}\\begin{vmatrix}x_i & y_i \\\\ x_{i+1} & y_{i+1} \\end{vmatrix}\n",
    "$$\n",
    "\n",
    "For a thorough explanation of this formula, an intuitive derivation and some applications, take a look at this [excellent video from Mathologer](https://www.youtube.com/watch?v=0KjG8Pg6LGk)."
   ]
  },
  {
   "cell_type": "markdown",
   "metadata": {},
   "source": [
    "Now, let's get implementing - the first job is to create a list of the nodes forming the boundary of the polygon. This is easily done by iterating over the steps, and recording the coordinates of each node. During this process, the total length of the boundary can also be tracked - as each step is to a integer lattice point, the total length will be the quantity $b$ needed for Pick's theorem."
   ]
  },
  {
   "cell_type": "code",
   "execution_count": 8,
   "metadata": {},
   "outputs": [],
   "source": [
    "def compute_boundary(steps: list[list[str]]) -> tuple[list[tuple[int]], int]:\n",
    "    # Initialise\n",
    "    vertices = [(0, 0)]\n",
    "    idx = (0, 0)\n",
    "    \n",
    "    # Also track the total boundary points\n",
    "    n_boundary = 0\n",
    "    \n",
    "    for step in steps:\n",
    "        direction, n = step[0], step[1]\n",
    "        n = int(n)\n",
    "        \n",
    "        # Take steps in direction\n",
    "        n_boundary += n\n",
    "        if direction == 'R':\n",
    "            idx = (idx[0], idx[1] + n)\n",
    "        if direction == 'L':\n",
    "            idx = (idx[0], idx[1] - n)\n",
    "        if direction == 'D':\n",
    "            idx = (idx[0] + n, idx[1])\n",
    "        if direction == 'U':\n",
    "            idx = (idx[0] - n, idx[1])\n",
    "            \n",
    "        vertices.append(idx)\n",
    "    \n",
    "    # Last vertex should be equal to first vertex, and is not needed\n",
    "    assert vertices.pop() == vertices[0]\n",
    "    \n",
    "    return vertices, n_boundary"
   ]
  },
  {
   "cell_type": "markdown",
   "metadata": {},
   "source": [
    "Note that the starting vertex of the boundary is chosen to be the origin $(0, 0)$. An interesting property of the shoelace formula is that it is translation invariant, i.e. independent of the place in the lattice where the polygon is located (as would be expected for the area), so the initial point is arbitrary.\n",
    "\n",
    "From the vertices, the shoelace formula determines the area:"
   ]
  },
  {
   "cell_type": "code",
   "execution_count": 9,
   "metadata": {},
   "outputs": [],
   "source": [
    "def shoelace_compute(vertices: list[tuple[int]]) -> int:\n",
    "    area = 0\n",
    "    \n",
    "    # Loop over pairs of vertices around boundary\n",
    "    for vertex_1, vertex_2 in zip(vertices, [*vertices[1:], vertices[0]]):\n",
    "        area += vertex_1[0]*vertex_2[1] - vertex_1[1]*vertex_2[0]\n",
    "    \n",
    "    # Area will be negative if boundary is traversed clockwise\n",
    "    return int(abs(area/2))"
   ]
  },
  {
   "cell_type": "markdown",
   "metadata": {},
   "source": [
    "Let's test this out on the example instructions, provided by the puzzle. We are told to expect 38 boundary points:"
   ]
  },
  {
   "cell_type": "code",
   "execution_count": 10,
   "metadata": {},
   "outputs": [
    {
     "name": "stdout",
     "output_type": "stream",
     "text": [
      "Success!\n",
      "Vertices: [(0, 0), (0, 6), (5, 6), (5, 4), (7, 4), (7, 6), (9, 6), (9, 1), (7, 1), (7, 0), (5, 0), (5, 2), (2, 2), (2, 0)]\n"
     ]
    }
   ],
   "source": [
    "test_vertices, test_n_boundary = compute_boundary(test_steps)\n",
    "assert test_n_boundary == 38\n",
    "print('Success!')\n",
    "print(f'Vertices: {test_vertices}')"
   ]
  },
  {
   "cell_type": "markdown",
   "metadata": {},
   "source": [
    "One final point to note is that we are asked to find the total number of points _including_ the boundary points, not just the interior points. Rearranging the formula from Pick's theorem, the total number of points $T$ is:\n",
    "\n",
    "$$\n",
    "\\begin{align}\n",
    "T &= \\left(A + 1 - \\frac{b}{2}\\right) + b \\\\\n",
    "&= A + 1 + \\frac{b}{2}.\n",
    "\\end{align}\n",
    "$$"
   ]
  },
  {
   "cell_type": "markdown",
   "metadata": {},
   "source": [
    "Putting this together, we find that the total number of points inside/on the boundary is:"
   ]
  },
  {
   "cell_type": "code",
   "execution_count": 11,
   "metadata": {},
   "outputs": [
    {
     "name": "stdout",
     "output_type": "stream",
     "text": [
      "62\n"
     ]
    }
   ],
   "source": [
    "test_area = shoelace_compute(test_vertices)\n",
    "print(test_area + 1 + int(test_n_boundary/2))"
   ]
  },
  {
   "cell_type": "markdown",
   "metadata": {},
   "source": [
    "Just as expected! Applying this now to the full set of input instructions:"
   ]
  },
  {
   "cell_type": "code",
   "execution_count": 12,
   "metadata": {},
   "outputs": [
    {
     "name": "stdout",
     "output_type": "stream",
     "text": [
      "74074\n"
     ]
    }
   ],
   "source": [
    "vertices, n_boundary = compute_boundary(steps)\n",
    "area = shoelace_compute(vertices)\n",
    "print(area + 1 + int(n_boundary/2))"
   ]
  },
  {
   "cell_type": "markdown",
   "metadata": {},
   "source": [
    "So the answer to part 1 is: __74074__."
   ]
  },
  {
   "cell_type": "markdown",
   "metadata": {},
   "source": [
    "This is what the resulting lagoon looks like for the full set of instructions:"
   ]
  },
  {
   "cell_type": "code",
   "execution_count": 13,
   "metadata": {},
   "outputs": [
    {
     "data": {
      "image/png": "[encoded data removed]",
      "text/plain": [
       "<Figure size 1000x1000 with 1 Axes>"
      ]
     },
     "metadata": {},
     "output_type": "display_data"
    }
   ],
   "source": [
    "v = np.array(vertices)\n",
    "mins = v.min(axis=0)\n",
    "maxs = v.max(axis=0)\n",
    "width = max(maxs - mins)\n",
    "\n",
    "p = Polygon(v, facecolor = 'orange', alpha=0.4, edgecolor='r')\n",
    "\n",
    "fig, ax = plt.subplots(figsize=(10, 10))\n",
    "ax.set_facecolor('b')\n",
    "ax.add_patch(p)\n",
    "ax.set_xlim([mins[0], mins[0] + width + 1])\n",
    "ax.set_ylim([mins[1], mins[1] + width + 1])\n",
    "ax.axis('off')\n",
    "ax.set_facecolor('b')\n",
    "plt.show()"
   ]
  },
  {
   "cell_type": "markdown",
   "metadata": {},
   "source": [
    "## Part 2"
   ]
  },
  {
   "cell_type": "markdown",
   "metadata": {},
   "source": [
    "In part 2, the hexadecimal colour codes in the instructions turn out not to be colours, but instead the true instructions that are meant to be followed: the first 5 characters are the numbers of steps to take, and the final character is a code determining the direction. The true instructions can be extracted into the more familiar form:"
   ]
  },
  {
   "cell_type": "code",
   "execution_count": 14,
   "metadata": {},
   "outputs": [],
   "source": [
    "def convert_colour_to_step(colour_string: str) -> tuple[str, int]:\n",
    "    direction, n = colour_string[-1], colour_string[1:-1]\n",
    "    n = int(n, 16)\n",
    "    direction = {\n",
    "        '0': 'R',\n",
    "        '1': 'D',\n",
    "        '2': 'L',\n",
    "        '3': 'U'\n",
    "    }[direction]\n",
    "    \n",
    "    return direction, n"
   ]
  },
  {
   "cell_type": "markdown",
   "metadata": {},
   "source": [
    "Consider again the test instructions provided by the puzzle:"
   ]
  },
  {
   "cell_type": "code",
   "execution_count": 15,
   "metadata": {},
   "outputs": [
    {
     "name": "stdout",
     "output_type": "stream",
     "text": [
      "[('R', 461937), ('D', 56407), ('R', 356671), ('D', 863240), ('R', 367720)]\n"
     ]
    }
   ],
   "source": [
    "test_new_steps = [convert_colour_to_step(step[2]) for step in test_steps]\n",
    "print(test_new_steps[:5])"
   ]
  },
  {
   "cell_type": "markdown",
   "metadata": {},
   "source": [
    "As can be seen here, the steps are much larger than in part 1 - clearly constructing and looping over an array is not the right approach, justifying using Pick's theorem and the shoelace formula (which depend only on the number of instructions, not on the size of the steps). We can check that we get the exected answer:"
   ]
  },
  {
   "cell_type": "code",
   "execution_count": 16,
   "metadata": {},
   "outputs": [
    {
     "name": "stdout",
     "output_type": "stream",
     "text": [
      "Success!\n"
     ]
    }
   ],
   "source": [
    "test_new_vertices, test_new_n_boundary = compute_boundary(test_new_steps)\n",
    "test_new_area = shoelace_compute(test_new_vertices)\n",
    "assert test_new_area + 1 + int(test_new_n_boundary/2) == 952408144115\n",
    "print('Success!')"
   ]
  },
  {
   "cell_type": "markdown",
   "metadata": {},
   "source": [
    "And so the applying the formulae for the final time to the full set of instructions:"
   ]
  },
  {
   "cell_type": "code",
   "execution_count": 17,
   "metadata": {},
   "outputs": [
    {
     "name": "stdout",
     "output_type": "stream",
     "text": [
      "112074045986829\n"
     ]
    }
   ],
   "source": [
    "new_steps = [convert_colour_to_step(step[2]) for step in steps]\n",
    "new_vertices, new_n_boundary = compute_boundary(new_steps)\n",
    "new_area = shoelace_compute(new_vertices)\n",
    "print(new_area + 1 + int(new_n_boundary/2))"
   ]
  },
  {
   "cell_type": "markdown",
   "metadata": {},
   "source": [
    "So the final answer to part 2 is: __112074045986829__."
   ]
  },
  {
   "cell_type": "markdown",
   "metadata": {},
   "source": [
    "Just for fun, here is a visualization of the lagoon defined by the new set of instructions:"
   ]
  },
  {
   "cell_type": "code",
   "execution_count": 22,
   "metadata": {},
   "outputs": [
    {
     "data": {
      "image/png": "[encoded data removed]",
      "text/plain": [
       "<Figure size 1000x1000 with 1 Axes>"
      ]
     },
     "metadata": {},
     "output_type": "display_data"
    }
   ],
   "source": [
    "v = np.array(new_vertices)\n",
    "mins = v.min(axis=0)\n",
    "maxs = v.max(axis=0)\n",
    "width = max(maxs - mins)\n",
    "\n",
    "p = Polygon(v, facecolor = 'orange', alpha=0.4, edgecolor='r')\n",
    "\n",
    "fig, ax = plt.subplots(figsize=(10, 10))\n",
    "ax.add_patch(p)\n",
    "ax.set_xlim([mins[0], mins[0] + width + 1])\n",
    "ax.set_ylim([mins[1], mins[1] + width + 1])\n",
    "ax.axis('off')\n",
    "plt.show()"
   ]
  },
  {
   "cell_type": "markdown",
   "metadata": {},
   "source": [
    "Extra reading:\n",
    "- [Pick's theorem](https://en.wikipedia.org/wiki/Pick%27s_theorem)\n",
    "- [Shoelace formula](https://en.wikipedia.org/wiki/Shoelace_formula)"
   ]
  }
 ],
 "metadata": {
  "kernelspec": {
   "display_name": "aoc23",
   "language": "python",
   "name": "aoc23"
  },
  "language_info": {
   "codemirror_mode": {
    "name": "ipython",
    "version": 3
   },
   "file_extension": ".py",
   "mimetype": "text/x-python",
   "name": "python",
   "nbconvert_exporter": "python",
   "pygments_lexer": "ipython3",
   "version": "3.12.0"
  }
 },
 "nbformat": 4,
 "nbformat_minor": 4
}
